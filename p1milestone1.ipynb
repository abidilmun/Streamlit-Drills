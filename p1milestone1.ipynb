{
 "cells": [
  {
   "cell_type": "markdown",
   "metadata": {},
   "source": [
    "# Introduction\n",
    "\n",
    "Name | Abid Ilmun Fisabil<br>\n",
    "Batch | FTDS-006<br>\n",
    "Phase | 1\n",
    "\n",
    "## Data Description\n",
    "\n",
    "### Source:\n",
    "\n",
    "[Moro et al., 2014] S. Moro, P. Cortez and P. Rita. A Data-Driven Approach to Predict the Success of Bank Telemarketing. Decision Support Systems, Elsevier, 62:22-31, June 2014\n",
    "\n",
    "Data Set Information:\n",
    "\n",
    "The data is related with direct marketing campaigns of a Portuguese banking institution. The marketing campaigns were based on phone calls. Often, more than one contact to the same client was required, in order to access if the product (bank term deposit) would be ('yes') or not ('no') subscribed.\n",
    "\n",
    "There are four datasets:\n",
    "1. bank-additional-full.csv with all examples (41188) and 20 inputs, ordered by date (from May 2008 to November 2010), very close to the data analyzed in [Moro et al., 2014]\n",
    "2. bank-additional.csv with 10% of the examples (4119), randomly selected from 1), and 20 inputs.\n",
    "3. bank-full.csv with all examples and 17 inputs, ordered by date (older version of this dataset with less inputs).\n",
    "4. bank.csv with 10% of the examples and 17 inputs, randomly selected from 3 (older version of this dataset with less inputs).\n",
    "The smallest datasets are provided to test more computationally demanding machine learning algorithms (e.g., SVM).\n",
    "\n",
    "The classification goal is to predict if the client will subscribe (yes/no) a term deposit (variable y).\n",
    "\n",
    "### Attribute Information:\n",
    "\n",
    "#### **Input variables:**\n",
    "#### bank client data:\n",
    "1. age (numeric)\n",
    "2. job : type of job (categorical: 'admin.','blue-collar','entrepreneur','housemaid','management','retired','self-employed','services','student','technician','unemployed','unknown')\n",
    "3. marital : marital status (categorical: 'divorced','married','single','unknown'; note: 'divorced' means divorced or widowed)\n",
    "4. education (categorical: 'basic.4y','basic.6y','basic.9y','high.school','illiterate','professional.course','university.degree','unknown')\n",
    "5. default: has credit in default? (categorical: 'no','yes','unknown')\n",
    "6. housing: has housing loan? (categorical: 'no','yes','unknown')\n",
    "7. loan: has personal loan? (categorical: 'no','yes','unknown')\n",
    "\n",
    "#### related with the last contact of the current campaign:\n",
    "8. contact: contact communication type (categorical: 'cellular','telephone')\n",
    "9. month: last contact month of year (categorical: 'jan', 'feb', 'mar', ..., 'nov', 'dec')\n",
    "10. day_of_week: last contact day of the week (categorical: 'mon','tue','wed','thu','fri')\n",
    "11. duration: last contact duration, in seconds (numeric). Important note: this attribute highly affects the output target (e.g., if duration=0 then y='no'). Yet, the duration is not known before a call is performed. Also, after the end of the call y is obviously known. Thus, this input should only be included for benchmark purposes and should be discarded if the intention is to have a realistic predictive model.\n",
    "\n",
    "#### other attributes:\n",
    "12. campaign: number of contacts performed during this campaign and for this client (numeric, includes last contact)\n",
    "13. pdays: number of days that passed by after the client was last contacted from a previous campaign (numeric; 999 means client was not previously contacted)\n",
    "14. previous: number of contacts performed before this campaign and for this client (numeric)\n",
    "15. poutcome: outcome of the previous marketing campaign (categorical: 'failure','nonexistent','success')\n",
    "\n",
    "#### social and economic context attributes\n",
    "16. emp.var.rate: employment variation rate - quarterly indicator (numeric)\n",
    "17. cons.price.idx: consumer price index - monthly indicator (numeric)\n",
    "18. cons.conf.idx: consumer confidence index - monthly indicator (numeric)\n",
    "19. euribor3m: euribor 3 month rate - daily indicator (numeric)\n",
    "20. nr.employed: number of employees - quarterly indicator (numeric)\n",
    "\n",
    "#### Output variable (desired target):\n",
    "21. y - has the client subscribed a term deposit? (binary: 'yes','no')\n",
    "\n",
    "#### **Relevant Papers:**\n",
    "\n",
    "S. Moro, P. Cortez and P. Rita. A Data-Driven Approach to Predict the Success of Bank Telemarketing. Decision Support Systems, Elsevier, 62:22-31, June 2014\n",
    "\n",
    "S. Moro, R. Laureano and P. Cortez. Using Data Mining for Bank Direct Marketing: An Application of the CRISP-DM Methodology. In P. Novais et al. (Eds.), Proceedings of the European Simulation and Modelling Conference - ESM'2011, pp. 117-121, Guimaraes, Portugal, October, 2011. EUROSIS. [bank.zip]\n"
   ]
  },
  {
   "cell_type": "markdown",
   "metadata": {},
   "source": [
    "# Importing Packages"
   ]
  },
  {
   "cell_type": "code",
   "execution_count": 122,
   "metadata": {
    "execution": {
     "iopub.execute_input": "2022-01-05T15:41:55.898051Z",
     "iopub.status.busy": "2022-01-05T15:41:55.897659Z",
     "iopub.status.idle": "2022-01-05T15:41:55.906015Z",
     "shell.execute_reply": "2022-01-05T15:41:55.905257Z",
     "shell.execute_reply.started": "2022-01-05T15:41:55.897986Z"
    }
   },
   "outputs": [],
   "source": [
    "import pandas as pd\n",
    "import numpy as np\n",
    "import matplotlib.pyplot as plt\n",
    "import seaborn as sns\n",
    "from sklearn.preprocessing import OneHotEncoder, OrdinalEncoder, MinMaxScaler, StandardScaler, RobustScaler, PowerTransformer, FunctionTransformer\n",
    "from category_encoders.target_encoder import TargetEncoder\n",
    "from sklearn.pipeline import Pipeline\n",
    "from sklearn.compose import make_column_transformer as mct\n",
    "from sklearn.model_selection import train_test_split as tts, StratifiedKFold, KFold, GridSearchCV\n",
    "from sklearn.metrics import classification_report as cr\n",
    "from sklearn import metrics\n",
    "from sklearn.linear_model import LogisticRegression\n",
    "from sklearn.tree import DecisionTreeClassifier\n",
    "from sklearn.svm import SVC\n",
    "from sklearn.neighbors import KNeighborsClassifier\n",
    "from sklearn.ensemble import RandomForestClassifier, GradientBoostingClassifier\n",
    "from lightgbm import LGBMClassifier\n",
    "from yellowbrick.classifier import DiscriminationThreshold\n",
    "from IPython.display import clear_output\n",
    "\n",
    "import warnings\n",
    "warnings.filterwarnings('ignore')"
   ]
  },
  {
   "cell_type": "markdown",
   "metadata": {},
   "source": [
    "# Data Loading"
   ]
  },
  {
   "cell_type": "code",
   "execution_count": 68,
   "metadata": {
    "execution": {
     "iopub.execute_input": "2022-01-05T14:33:28.282786Z",
     "iopub.status.busy": "2022-01-05T14:33:28.282514Z",
     "iopub.status.idle": "2022-01-05T14:33:28.406118Z",
     "shell.execute_reply": "2022-01-05T14:33:28.405307Z",
     "shell.execute_reply.started": "2022-01-05T14:33:28.282751Z"
    }
   },
   "outputs": [
    {
     "data": {
      "text/html": [
       "<div>\n",
       "<style scoped>\n",
       "    .dataframe tbody tr th:only-of-type {\n",
       "        vertical-align: middle;\n",
       "    }\n",
       "\n",
       "    .dataframe tbody tr th {\n",
       "        vertical-align: top;\n",
       "    }\n",
       "\n",
       "    .dataframe thead th {\n",
       "        text-align: right;\n",
       "    }\n",
       "</style>\n",
       "<table border=\"1\" class=\"dataframe\">\n",
       "  <thead>\n",
       "    <tr style=\"text-align: right;\">\n",
       "      <th></th>\n",
       "      <th>age</th>\n",
       "      <th>job</th>\n",
       "      <th>marital</th>\n",
       "      <th>education</th>\n",
       "      <th>default</th>\n",
       "      <th>housing</th>\n",
       "      <th>loan</th>\n",
       "      <th>contact</th>\n",
       "      <th>month</th>\n",
       "      <th>day_of_week</th>\n",
       "      <th>...</th>\n",
       "      <th>campaign</th>\n",
       "      <th>pdays</th>\n",
       "      <th>previous</th>\n",
       "      <th>poutcome</th>\n",
       "      <th>emp.var.rate</th>\n",
       "      <th>cons.price.idx</th>\n",
       "      <th>cons.conf.idx</th>\n",
       "      <th>euribor3m</th>\n",
       "      <th>nr.employed</th>\n",
       "      <th>y</th>\n",
       "    </tr>\n",
       "  </thead>\n",
       "  <tbody>\n",
       "    <tr>\n",
       "      <th>0</th>\n",
       "      <td>56</td>\n",
       "      <td>housemaid</td>\n",
       "      <td>married</td>\n",
       "      <td>basic.4y</td>\n",
       "      <td>no</td>\n",
       "      <td>no</td>\n",
       "      <td>no</td>\n",
       "      <td>telephone</td>\n",
       "      <td>may</td>\n",
       "      <td>mon</td>\n",
       "      <td>...</td>\n",
       "      <td>1</td>\n",
       "      <td>999</td>\n",
       "      <td>0</td>\n",
       "      <td>nonexistent</td>\n",
       "      <td>1.1</td>\n",
       "      <td>93.994</td>\n",
       "      <td>-36.4</td>\n",
       "      <td>4.857</td>\n",
       "      <td>5191.0</td>\n",
       "      <td>no</td>\n",
       "    </tr>\n",
       "    <tr>\n",
       "      <th>1</th>\n",
       "      <td>57</td>\n",
       "      <td>services</td>\n",
       "      <td>married</td>\n",
       "      <td>high.school</td>\n",
       "      <td>unknown</td>\n",
       "      <td>no</td>\n",
       "      <td>no</td>\n",
       "      <td>telephone</td>\n",
       "      <td>may</td>\n",
       "      <td>mon</td>\n",
       "      <td>...</td>\n",
       "      <td>1</td>\n",
       "      <td>999</td>\n",
       "      <td>0</td>\n",
       "      <td>nonexistent</td>\n",
       "      <td>1.1</td>\n",
       "      <td>93.994</td>\n",
       "      <td>-36.4</td>\n",
       "      <td>4.857</td>\n",
       "      <td>5191.0</td>\n",
       "      <td>no</td>\n",
       "    </tr>\n",
       "    <tr>\n",
       "      <th>2</th>\n",
       "      <td>37</td>\n",
       "      <td>services</td>\n",
       "      <td>married</td>\n",
       "      <td>high.school</td>\n",
       "      <td>no</td>\n",
       "      <td>yes</td>\n",
       "      <td>no</td>\n",
       "      <td>telephone</td>\n",
       "      <td>may</td>\n",
       "      <td>mon</td>\n",
       "      <td>...</td>\n",
       "      <td>1</td>\n",
       "      <td>999</td>\n",
       "      <td>0</td>\n",
       "      <td>nonexistent</td>\n",
       "      <td>1.1</td>\n",
       "      <td>93.994</td>\n",
       "      <td>-36.4</td>\n",
       "      <td>4.857</td>\n",
       "      <td>5191.0</td>\n",
       "      <td>no</td>\n",
       "    </tr>\n",
       "    <tr>\n",
       "      <th>3</th>\n",
       "      <td>40</td>\n",
       "      <td>admin.</td>\n",
       "      <td>married</td>\n",
       "      <td>basic.6y</td>\n",
       "      <td>no</td>\n",
       "      <td>no</td>\n",
       "      <td>no</td>\n",
       "      <td>telephone</td>\n",
       "      <td>may</td>\n",
       "      <td>mon</td>\n",
       "      <td>...</td>\n",
       "      <td>1</td>\n",
       "      <td>999</td>\n",
       "      <td>0</td>\n",
       "      <td>nonexistent</td>\n",
       "      <td>1.1</td>\n",
       "      <td>93.994</td>\n",
       "      <td>-36.4</td>\n",
       "      <td>4.857</td>\n",
       "      <td>5191.0</td>\n",
       "      <td>no</td>\n",
       "    </tr>\n",
       "    <tr>\n",
       "      <th>4</th>\n",
       "      <td>56</td>\n",
       "      <td>services</td>\n",
       "      <td>married</td>\n",
       "      <td>high.school</td>\n",
       "      <td>no</td>\n",
       "      <td>no</td>\n",
       "      <td>yes</td>\n",
       "      <td>telephone</td>\n",
       "      <td>may</td>\n",
       "      <td>mon</td>\n",
       "      <td>...</td>\n",
       "      <td>1</td>\n",
       "      <td>999</td>\n",
       "      <td>0</td>\n",
       "      <td>nonexistent</td>\n",
       "      <td>1.1</td>\n",
       "      <td>93.994</td>\n",
       "      <td>-36.4</td>\n",
       "      <td>4.857</td>\n",
       "      <td>5191.0</td>\n",
       "      <td>no</td>\n",
       "    </tr>\n",
       "  </tbody>\n",
       "</table>\n",
       "<p>5 rows × 21 columns</p>\n",
       "</div>"
      ],
      "text/plain": [
       "   age        job  marital    education  default housing loan    contact  \\\n",
       "0   56  housemaid  married     basic.4y       no      no   no  telephone   \n",
       "1   57   services  married  high.school  unknown      no   no  telephone   \n",
       "2   37   services  married  high.school       no     yes   no  telephone   \n",
       "3   40     admin.  married     basic.6y       no      no   no  telephone   \n",
       "4   56   services  married  high.school       no      no  yes  telephone   \n",
       "\n",
       "  month day_of_week  ...  campaign  pdays  previous     poutcome emp.var.rate  \\\n",
       "0   may         mon  ...         1    999         0  nonexistent          1.1   \n",
       "1   may         mon  ...         1    999         0  nonexistent          1.1   \n",
       "2   may         mon  ...         1    999         0  nonexistent          1.1   \n",
       "3   may         mon  ...         1    999         0  nonexistent          1.1   \n",
       "4   may         mon  ...         1    999         0  nonexistent          1.1   \n",
       "\n",
       "   cons.price.idx  cons.conf.idx  euribor3m  nr.employed   y  \n",
       "0          93.994          -36.4      4.857       5191.0  no  \n",
       "1          93.994          -36.4      4.857       5191.0  no  \n",
       "2          93.994          -36.4      4.857       5191.0  no  \n",
       "3          93.994          -36.4      4.857       5191.0  no  \n",
       "4          93.994          -36.4      4.857       5191.0  no  \n",
       "\n",
       "[5 rows x 21 columns]"
      ]
     },
     "execution_count": 68,
     "metadata": {},
     "output_type": "execute_result"
    }
   ],
   "source": [
    "df = pd.read_csv('../input/bank-additional-full/bank-additional-full.csv', delimiter = ';')\n",
    "df.head()"
   ]
  },
  {
   "cell_type": "markdown",
   "metadata": {},
   "source": [
    "# Exploration"
   ]
  },
  {
   "cell_type": "code",
   "execution_count": 6,
   "metadata": {
    "execution": {
     "iopub.execute_input": "2022-01-05T13:19:37.901678Z",
     "iopub.status.busy": "2022-01-05T13:19:37.901390Z",
     "iopub.status.idle": "2022-01-05T13:19:37.907225Z",
     "shell.execute_reply": "2022-01-05T13:19:37.906404Z",
     "shell.execute_reply.started": "2022-01-05T13:19:37.901644Z"
    }
   },
   "outputs": [
    {
     "data": {
      "text/plain": [
       "(41188, 21)"
      ]
     },
     "execution_count": 6,
     "metadata": {},
     "output_type": "execute_result"
    }
   ],
   "source": [
    "df.shape"
   ]
  },
  {
   "cell_type": "code",
   "execution_count": 7,
   "metadata": {
    "execution": {
     "iopub.execute_input": "2022-01-05T13:19:38.965043Z",
     "iopub.status.busy": "2022-01-05T13:19:38.964255Z",
     "iopub.status.idle": "2022-01-05T13:19:39.008766Z",
     "shell.execute_reply": "2022-01-05T13:19:39.007879Z",
     "shell.execute_reply.started": "2022-01-05T13:19:38.964998Z"
    }
   },
   "outputs": [
    {
     "name": "stdout",
     "output_type": "stream",
     "text": [
      "<class 'pandas.core.frame.DataFrame'>\n",
      "RangeIndex: 41188 entries, 0 to 41187\n",
      "Data columns (total 21 columns):\n",
      " #   Column          Non-Null Count  Dtype  \n",
      "---  ------          --------------  -----  \n",
      " 0   age             41188 non-null  int64  \n",
      " 1   job             41188 non-null  object \n",
      " 2   marital         41188 non-null  object \n",
      " 3   education       41188 non-null  object \n",
      " 4   default         41188 non-null  object \n",
      " 5   housing         41188 non-null  object \n",
      " 6   loan            41188 non-null  object \n",
      " 7   contact         41188 non-null  object \n",
      " 8   month           41188 non-null  object \n",
      " 9   day_of_week     41188 non-null  object \n",
      " 10  duration        41188 non-null  int64  \n",
      " 11  campaign        41188 non-null  int64  \n",
      " 12  pdays           41188 non-null  int64  \n",
      " 13  previous        41188 non-null  int64  \n",
      " 14  poutcome        41188 non-null  object \n",
      " 15  emp.var.rate    41188 non-null  float64\n",
      " 16  cons.price.idx  41188 non-null  float64\n",
      " 17  cons.conf.idx   41188 non-null  float64\n",
      " 18  euribor3m       41188 non-null  float64\n",
      " 19  nr.employed     41188 non-null  float64\n",
      " 20  y               41188 non-null  object \n",
      "dtypes: float64(5), int64(5), object(11)\n",
      "memory usage: 6.6+ MB\n"
     ]
    }
   ],
   "source": [
    "df.info()"
   ]
  },
  {
   "cell_type": "code",
   "execution_count": 8,
   "metadata": {
    "execution": {
     "iopub.execute_input": "2022-01-05T13:19:39.887929Z",
     "iopub.status.busy": "2022-01-05T13:19:39.887290Z",
     "iopub.status.idle": "2022-01-05T13:19:39.917847Z",
     "shell.execute_reply": "2022-01-05T13:19:39.917330Z",
     "shell.execute_reply.started": "2022-01-05T13:19:39.887891Z"
    }
   },
   "outputs": [
    {
     "data": {
      "text/plain": [
       "age               0\n",
       "job               0\n",
       "marital           0\n",
       "education         0\n",
       "default           0\n",
       "housing           0\n",
       "loan              0\n",
       "contact           0\n",
       "month             0\n",
       "day_of_week       0\n",
       "duration          0\n",
       "campaign          0\n",
       "pdays             0\n",
       "previous          0\n",
       "poutcome          0\n",
       "emp.var.rate      0\n",
       "cons.price.idx    0\n",
       "cons.conf.idx     0\n",
       "euribor3m         0\n",
       "nr.employed       0\n",
       "y                 0\n",
       "dtype: int64"
      ]
     },
     "execution_count": 8,
     "metadata": {},
     "output_type": "execute_result"
    }
   ],
   "source": [
    "df.isnull().sum()"
   ]
  },
  {
   "cell_type": "code",
   "execution_count": 9,
   "metadata": {
    "execution": {
     "iopub.execute_input": "2022-01-05T13:19:40.825842Z",
     "iopub.status.busy": "2022-01-05T13:19:40.825181Z",
     "iopub.status.idle": "2022-01-05T13:19:40.878646Z",
     "shell.execute_reply": "2022-01-05T13:19:40.878096Z",
     "shell.execute_reply.started": "2022-01-05T13:19:40.825803Z"
    }
   },
   "outputs": [
    {
     "data": {
      "text/plain": [
       "12"
      ]
     },
     "execution_count": 9,
     "metadata": {},
     "output_type": "execute_result"
    }
   ],
   "source": [
    "df.duplicated().sum()"
   ]
  },
  {
   "cell_type": "code",
   "execution_count": 10,
   "metadata": {
    "execution": {
     "iopub.execute_input": "2022-01-05T13:19:41.891622Z",
     "iopub.status.busy": "2022-01-05T13:19:41.891036Z",
     "iopub.status.idle": "2022-01-05T13:19:41.900663Z",
     "shell.execute_reply": "2022-01-05T13:19:41.899718Z",
     "shell.execute_reply.started": "2022-01-05T13:19:41.891580Z"
    }
   },
   "outputs": [
    {
     "data": {
      "text/plain": [
       "no     0.887346\n",
       "yes    0.112654\n",
       "Name: y, dtype: float64"
      ]
     },
     "execution_count": 10,
     "metadata": {},
     "output_type": "execute_result"
    }
   ],
   "source": [
    "df.y.value_counts()/df.shape[0]"
   ]
  },
  {
   "cell_type": "code",
   "execution_count": 11,
   "metadata": {
    "execution": {
     "iopub.execute_input": "2022-01-05T13:19:42.850260Z",
     "iopub.status.busy": "2022-01-05T13:19:42.849316Z",
     "iopub.status.idle": "2022-01-05T13:19:42.856222Z",
     "shell.execute_reply": "2022-01-05T13:19:42.855235Z",
     "shell.execute_reply.started": "2022-01-05T13:19:42.850186Z"
    }
   },
   "outputs": [],
   "source": [
    "cols = df.dtypes[df.dtypes == object].index"
   ]
  },
  {
   "cell_type": "markdown",
   "metadata": {},
   "source": [
    "**Intitial Findings**\n",
    "1. data is shaped 41188 by 21\n",
    "2. no null values\n",
    "3. no duplicates\n",
    "4. 11% of positive targets and 88% of negative targets (imbalanced)"
   ]
  },
  {
   "cell_type": "markdown",
   "metadata": {},
   "source": [
    "## Visualizations"
   ]
  },
  {
   "cell_type": "code",
   "execution_count": 14,
   "metadata": {
    "execution": {
     "iopub.execute_input": "2022-01-05T13:20:06.485943Z",
     "iopub.status.busy": "2022-01-05T13:20:06.485651Z",
     "iopub.status.idle": "2022-01-05T13:20:10.066172Z",
     "shell.execute_reply": "2022-01-05T13:20:10.065418Z",
     "shell.execute_reply.started": "2022-01-05T13:20:06.485908Z"
    }
   },
   "outputs": [
    {
     "data": {
      "image/png": "[encoded data removed]",
      "text/plain": [
       "<Figure size 1296x432 with 2 Axes>"
      ]
     },
     "metadata": {},
     "output_type": "display_data"
    },
    {
     "data": {
      "image/png": "[encoded data removed]",
      "text/plain": [
       "<Figure size 1296x432 with 2 Axes>"
      ]
     },
     "metadata": {},
     "output_type": "display_data"
    },
    {
     "data": {
      "image/png": "[encoded data removed]",
      "text/plain": [
       "<Figure size 1296x432 with 2 Axes>"
      ]
     },
     "metadata": {},
     "output_type": "display_data"
    },
    {
     "data": {
      "image/png": "[encoded data removed]",
      "text/plain": [
       "<Figure size 1296x432 with 2 Axes>"
      ]
     },
     "metadata": {},
     "output_type": "display_data"
    },
    {
     "data": {
      "image/png": "[encoded data removed]",
      "text/plain": [
       "<Figure size 1296x432 with 2 Axes>"
      ]
     },
     "metadata": {},
     "output_type": "display_data"
    },
    {
     "data": {
      "image/png": "[encoded data removed]",
      "text/plain": [
       "<Figure size 1296x432 with 2 Axes>"
      ]
     },
     "metadata": {},
     "output_type": "display_data"
    }
   ],
   "source": [
    "dff = df.copy()\n",
    "dff['contacts'] = ['contacted' if i == 999 else 'not contacted' for i in dff.pdays]\n",
    "sns.catplot(x=\"contacts\", col=\"y\",data=dff, kind=\"count\",height=6, aspect=1.5);\n",
    "sns.catplot(x=\"marital\", col=\"y\",data=df, kind=\"count\",height=6, aspect=1.5);\n",
    "sns.catplot(x=\"education\", col=\"y\",data=df, kind=\"count\",height=6, aspect=1.5);\n",
    "sns.catplot(x=\"housing\", col=\"y\",data=df, kind=\"count\",height=6, aspect=1.5);\n",
    "sns.catplot(x=\"month\", col=\"y\",data=df, kind=\"count\",height=6, aspect=1.5);\n",
    "sns.catplot(x=\"duration\", y=\"poutcome\", col = 'y', data=df, height=6, aspect=1.5);"
   ]
  },
  {
   "cell_type": "markdown",
   "metadata": {},
   "source": [
    "**Catplot Insights**<br>\n",
    "1. most of subscribers coming from people that have been contacted and we get small portion that have not been contacted. but that doesnt necessarily mean if we contact the costumer they will eventually subsribe.\n",
    "2. most of subscribers coming from people that are married and we get almost same portion that are single. but that doesnt necessarily mean if they are married they will eventually subsribe.\n",
    "3. most of subscribers coming from people that have been contacted and we get small portion that have not been contacted. but that doesnt necessarily mean if we contact the costumer they will eventually subsribe.\n",
    "4. more people with certain educational background will subscribe and so tiny almost none from those who are illiterate\n",
    "5. we get most of our subsribers between march to august and getting less at the end of the year\n",
    "6. on average most of subcribers have been contacted with around 1000 to 1500. if it's over than that we will get lesser\n",
    "\n",
    "***our machine learning model will have hard time predicting which costumer will subscribe. the reason is that the distribution of subsribers or non-subscribers seems twinning***"
   ]
  },
  {
   "cell_type": "code",
   "execution_count": 28,
   "metadata": {
    "execution": {
     "iopub.execute_input": "2022-01-05T13:28:32.348452Z",
     "iopub.status.busy": "2022-01-05T13:28:32.348129Z",
     "iopub.status.idle": "2022-01-05T13:28:32.883074Z",
     "shell.execute_reply": "2022-01-05T13:28:32.882117Z",
     "shell.execute_reply.started": "2022-01-05T13:28:32.348417Z"
    }
   },
   "outputs": [
    {
     "name": "stdout",
     "output_type": "stream",
     "text": [
      "Original\n",
      "\n",
      "age               0.784697\n",
      "duration          3.263141\n",
      "campaign          4.762507\n",
      "pdays            -4.922190\n",
      "previous          3.832042\n",
      "emp.var.rate     -0.724096\n",
      "cons.price.idx   -0.230888\n",
      "cons.conf.idx     0.303180\n",
      "euribor3m        -0.709188\n",
      "nr.employed      -1.044262\n",
      "dtype: float64 \n",
      "\n",
      "\n",
      "Cuber Root\n",
      "\n",
      "age               0.333630\n",
      "duration          0.664856\n",
      "campaign          1.642787\n",
      "pdays            -4.940439\n",
      "previous          2.217340\n",
      "emp.var.rate     -0.439144\n",
      "cons.price.idx   -0.237813\n",
      "cons.conf.idx     0.503173\n",
      "euribor3m        -0.794279\n",
      "nr.employed      -1.057155\n",
      "dtype: float64 \n",
      "\n",
      "\n",
      "Yeo Johnson\n",
      "\n",
      "age               0.007336\n",
      "duration          0.016940\n",
      "campaign          0.268430\n",
      "pdays            -4.922068\n",
      "previous          2.116794\n",
      "emp.var.rate     -0.414214\n",
      "cons.price.idx   -0.038410\n",
      "cons.conf.idx     0.047975\n",
      "euribor3m        -0.649814\n",
      "nr.employed      -0.502649\n",
      "dtype: float64 \n",
      "\n",
      "\n"
     ]
    }
   ],
   "source": [
    "num_cols = df.dtypes[df.dtypes != object].index\n",
    "transYjs = PowerTransformer('yeo-johnson')\n",
    "transCbrt = FunctionTransformer(np.cbrt)\n",
    "print('Original\\n')\n",
    "print(df[num_cols].skew(),'\\n\\n')\n",
    "print('Cuber Root\\n')\n",
    "print(transCbrt.fit_transform(df[num_cols]).skew(),'\\n\\n')\n",
    "print('Yeo Johnson\\n')\n",
    "print(pd.DataFrame(transYjs.fit_transform(df[num_cols]),columns = num_cols).skew(),'\\n\\n')"
   ]
  },
  {
   "cell_type": "markdown",
   "metadata": {},
   "source": [
    "### **Cleaning**"
   ]
  },
  {
   "cell_type": "code",
   "execution_count": 69,
   "metadata": {
    "execution": {
     "iopub.execute_input": "2022-01-05T14:33:45.239759Z",
     "iopub.status.busy": "2022-01-05T14:33:45.239495Z",
     "iopub.status.idle": "2022-01-05T14:33:45.291842Z",
     "shell.execute_reply": "2022-01-05T14:33:45.291050Z",
     "shell.execute_reply.started": "2022-01-05T14:33:45.239733Z"
    }
   },
   "outputs": [],
   "source": [
    "df = df.drop_duplicates()"
   ]
  },
  {
   "cell_type": "markdown",
   "metadata": {
    "execution": {
     "iopub.execute_input": "2022-01-05T03:16:01.141257Z",
     "iopub.status.busy": "2022-01-05T03:16:01.140939Z",
     "iopub.status.idle": "2022-01-05T03:16:01.144582Z",
     "shell.execute_reply": "2022-01-05T03:16:01.143979Z",
     "shell.execute_reply.started": "2022-01-05T03:16:01.141225Z"
    }
   },
   "source": [
    "# Creating Model Building Tools"
   ]
  },
  {
   "cell_type": "markdown",
   "metadata": {},
   "source": [
    "### Tools Dictionaries"
   ]
  },
  {
   "cell_type": "code",
   "execution_count": 29,
   "metadata": {
    "execution": {
     "iopub.execute_input": "2022-01-05T13:29:14.074577Z",
     "iopub.status.busy": "2022-01-05T13:29:14.074268Z",
     "iopub.status.idle": "2022-01-05T13:29:14.082674Z",
     "shell.execute_reply": "2022-01-05T13:29:14.081617Z",
     "shell.execute_reply.started": "2022-01-05T13:29:14.074544Z"
    }
   },
   "outputs": [],
   "source": [
    "models = {\n",
    "    'LogisticRegression' :LogisticRegression(solver = 'liblinear',n_jobs = -1),\n",
    "    'DecisionTreeClassifier' :DecisionTreeClassifier(random_state = 42),\n",
    "    'SVC' :SVC(random_state = 42),\n",
    "    'KNeighborsClassifier' :KNeighborsClassifier(n_jobs = -1),\n",
    "    'RandomForestClassifier' :RandomForestClassifier(random_state = 42,n_jobs = -1),\n",
    "    'GradientBoostingClassifier' :GradientBoostingClassifier(random_state = 42),\n",
    "    'LGBMClassifier': LGBMClassifier(random_state = 42)\n",
    "}\n",
    "encoders = {\n",
    "    'OneHotEncoder' :OneHotEncoder(handle_unknown = 'ignore'),\n",
    "    'OrdinalEncoder' :OrdinalEncoder(),\n",
    "    'TargetEncoder' :TargetEncoder(smoothing = 10,handle_unknown = 'ignore')\n",
    "}\n",
    "\n",
    "numTransformers = {\n",
    "    'YeoJohnson' :PowerTransformer(method = 'yeo-johnson'),\n",
    "    'cbrt' : FunctionTransformer(func = np.cbrt)\n",
    "}\n",
    "\n",
    "scalers = {\n",
    "    'MinMaxScaler' :MinMaxScaler(),\n",
    "    'StandardScaler' :StandardScaler(),\n",
    "    'RobustScaler' :RobustScaler()\n",
    "}"
   ]
  },
  {
   "cell_type": "markdown",
   "metadata": {},
   "source": [
    "### Tools Functions"
   ]
  },
  {
   "cell_type": "code",
   "execution_count": 76,
   "metadata": {
    "execution": {
     "iopub.execute_input": "2022-01-05T14:39:06.855805Z",
     "iopub.status.busy": "2022-01-05T14:39:06.855536Z",
     "iopub.status.idle": "2022-01-05T14:39:06.886803Z",
     "shell.execute_reply": "2022-01-05T14:39:06.885638Z",
     "shell.execute_reply.started": "2022-01-05T14:39:06.855776Z"
    }
   },
   "outputs": [],
   "source": [
    "def create_encoder_comparator(df,mod,encoder):        \n",
    "    x = df[df.columns[:-1]]\n",
    "    y = df[df.columns[-1]]\n",
    "    y = [1 if i == 'yes' else 0 for i in y]\n",
    "\n",
    "    num_cols = x.dtypes[x.dtypes != object].index\n",
    "    obj_cols = x.dtypes[x.dtypes == object].index\n",
    "    \n",
    "    ct = mct(\n",
    "        (encoder,obj_cols),\n",
    "        remainder = 'passthrough'\n",
    "    )\n",
    "    pipe = Pipeline(\n",
    "        [\n",
    "            ('ct',ct),\n",
    "            ('mod',mod)\n",
    "        ]\n",
    "    )\n",
    "\n",
    "    xtrain, xtest, ytrain, ytest = tts(x,y,test_size = .2,random_state = 23,stratify = y)\n",
    "    pipe.fit(xtrain,ytrain)\n",
    "    ypred = pipe.predict(xtest)\n",
    "    print(cr(ytest,ypred))\n",
    "    return pipe\n",
    "\n",
    "def create_numTransformer_comparator(df,mod,encoder,numTransformer):        \n",
    "    x = df[df.columns[:-1]]\n",
    "    y = df[df.columns[-1]]\n",
    "    y = [1 if i == 'yes' else 0 for i in y]\n",
    "\n",
    "    num_cols = x.dtypes[x.dtypes != object].index\n",
    "    obj_cols = x.dtypes[x.dtypes == object].index\n",
    "    \n",
    "    ct = mct(\n",
    "        (encoder,obj_cols),\n",
    "        (numTransformer,num_cols),\n",
    "        remainder = 'passthrough'\n",
    "    )\n",
    "    pipe = Pipeline(\n",
    "        [\n",
    "            ('ct',ct),\n",
    "            ('mod',mod)\n",
    "        ]\n",
    "    )\n",
    "    \n",
    "    \n",
    "    xtrain, xtest, ytrain, ytest = tts(x,y,test_size = .2,random_state = 23,stratify = y)\n",
    "    pipe.fit(xtrain,ytrain)\n",
    "    ypred = pipe.predict(xtest)\n",
    "    print(cr(ytest,ypred))\n",
    "    return pipe\n",
    "\n",
    "\n",
    "def create_full_model(df,mod,encoder,numTransformer,scaler,threshold = None):        \n",
    "    x = df[df.columns[:-1]]\n",
    "    y = df[df.columns[-1]]\n",
    "    y = [1 if i == 'yes' else 0 for i in y]\n",
    "\n",
    "    num_cols = x.dtypes[x.dtypes != object].index\n",
    "    obj_cols = x.dtypes[x.dtypes == object].index\n",
    "    \n",
    "    ct = mct(\n",
    "        (encoder,obj_cols),\n",
    "        (numTransformer,num_cols),\n",
    "        (scaler,num_cols),\n",
    "        remainder = 'passthrough'\n",
    "    )\n",
    "    pipe = Pipeline(\n",
    "        [\n",
    "            ('ct',ct),\n",
    "            ('mod',mod)\n",
    "        ]\n",
    "    )\n",
    "    \n",
    "    \n",
    "    xtrain, xtest, ytrain, ytest = tts(x,y,test_size = .2,random_state = 23,stratify = y)\n",
    "    pipe.fit(xtrain,ytrain)\n",
    "    if threshold != None:\n",
    "        ypred = [1 if i == True else 0 for i in (pipe.predict_proba(xtest)[:,1] >= threshold).astype(bool)]\n",
    "    else:\n",
    "        ypred = pipe.predict(xtest)\n",
    "    print(cr(ytest,ypred))\n",
    "    return pipe\n",
    "\n",
    "def crossval_skfold(df,pipe,threshold = None):    \n",
    "\n",
    "    x = df[df.columns[:-1]]\n",
    "    x = np.array(x)\n",
    "\n",
    "    num_cols =df[df.columns[:-1]].dtypes[df[df.columns[:-1]].dtypes != object].index\n",
    "    obj_cols = df[df.columns[:-1]].dtypes[df[df.columns[:-1]].dtypes == object].index\n",
    "\n",
    "    y = df[df.columns[-1]]\n",
    "    y = [1 if i == 'yes' else 0 for i in y]\n",
    "    y = np.array(y)\n",
    "\n",
    "    skfold = StratifiedKFold(n_splits=5, shuffle = True,random_state = 23)\n",
    "\n",
    "    metrics_ = []\n",
    "    reports = []\n",
    "\n",
    "    for train_index, test_index in skfold.split(x,y):\n",
    "\n",
    "        xtrain = pd.DataFrame(x[train_index],columns = df.columns[:-1])\n",
    "        xtest = pd.DataFrame(x[test_index],columns = df.columns[:-1])\n",
    "        ytrain = y[train_index]\n",
    "        ytest = y[test_index]\n",
    "\n",
    "        xtrain[num_cols] = xtrain[num_cols].values.astype(float)\n",
    "        xtest[num_cols] = xtest[num_cols].values.astype(float)\n",
    "\n",
    "        pipe.fit(xtrain,ytrain)\n",
    "        if threshold != None:\n",
    "            ypred = [1 if i == True else 0 for i in (pipe.predict_proba(xtest)[:,1] >= threshold).astype(bool)]\n",
    "        else:\n",
    "            ypred = pipe.predict(xtest)\n",
    "        metrics_.append([metrics.accuracy_score(ytest,ypred),\n",
    "                         metrics.precision_score(ytest,ypred),\n",
    "                         metrics.recall_score(ytest,ypred),\n",
    "                         metrics.f1_score(ytest,ypred),])\n",
    "        reports.append(cr(ytest,ypred))\n",
    "        print('done')\n",
    "    clear_output()\n",
    "    print(pd.DataFrame(metrics_, columns = ['acc','prec','rec','f1']).mean())\n",
    "    return metrics_, reports\n",
    "\n",
    "\n",
    "def crossval_kfold(df,pipe,threshold = None):\n",
    "    \n",
    "    num_cols =df[df.columns[:-1]].dtypes[df[df.columns[:-1]].dtypes != object].index\n",
    "    obj_cols = df[df.columns[:-1]].dtypes[df[df.columns[:-1]].dtypes == object].index\n",
    "\n",
    "    df.y = [1 if i == 'yes' else 0 for i in df.y]\n",
    "\n",
    "    kfold = KFold(n_splits=5,shuffle = True,random_state = 42)\n",
    "\n",
    "    metrics_ = []\n",
    "    reports = []\n",
    "\n",
    "    for train_index, test_index in kfold.split(df):\n",
    "        train = df.iloc[train_index]\n",
    "        test = df.iloc[test_index]\n",
    "\n",
    "        xtrain = train[train.columns[:-1]]\n",
    "        xtest = test[test.columns[:-1]]\n",
    "        ytrain = train[train.columns[-1]]\n",
    "        ytest = test[test.columns[-1]]\n",
    "\n",
    "        xtrain[num_cols] = xtrain[num_cols].values.astype(float)\n",
    "        xtest[num_cols] = xtest[num_cols].values.astype(float)\n",
    "        \n",
    "        pipe.fit(xtrain,ytrain)\n",
    "        if threshold != None:\n",
    "            ypred = [1 if i == True else 0 for i in (pipe.predict_proba(xtest)[:,1] >= threshold).astype(bool)]\n",
    "        else:\n",
    "            ypred = pipe.predict(xtest)\n",
    "        metrics_.append([metrics.accuracy_score(ytest,ypred),\n",
    "                         metrics.precision_score(ytest,ypred),\n",
    "                         metrics.recall_score(ytest,ypred),\n",
    "                         metrics.f1_score(ytest,ypred),])\n",
    "        reports.append(cr(ytest,ypred))\n",
    "        print('done')\n",
    "    clear_output()\n",
    "    print(pd.DataFrame(metrics_, columns = ['acc','prec','rec','f1']).mean())\n",
    "    return metrics_, reports\n",
    "\n",
    "def dt_plot(df,pipe):\n",
    "    x = df[df.columns[:-1]]\n",
    "    y = df[df.columns[-1]]\n",
    "    y = [1 if i == 'yes' else 0 for i in y]\n",
    "\n",
    "    visualizer = DiscriminationThreshold(pipe)\n",
    "\n",
    "    visualizer.fit(x, y)       \n",
    "    visualizer.show();\n",
    "    \n",
    "def create_gridsearch_model(df,mod,encoder,numTransformer,scaler,grid,threshold = None):\n",
    "\n",
    "    x = df[df.columns[:-1]]\n",
    "    y = df[df.columns[-1]]\n",
    "    y = [1 if i == 'yes' else 0 for i in y]\n",
    "\n",
    "    num_cols = x.dtypes[x.dtypes != object].index\n",
    "    obj_cols = x.dtypes[x.dtypes == object].index\n",
    "    \n",
    "    ct = mct(\n",
    "        (encoder,obj_cols),\n",
    "        (numTransformer,num_cols),\n",
    "        (scaler,num_cols),\n",
    "        remainder = 'passthrough'\n",
    "    )\n",
    "    pipe = Pipeline(\n",
    "        [\n",
    "            ('ct',ct),\n",
    "            ('mod',mod)\n",
    "        ]\n",
    "    )\n",
    "    \n",
    "    \n",
    "    xtrain, xtest, ytrain, ytest = tts(x,y,test_size = .2,random_state = 23,stratify = y)\n",
    "    pipe.fit(xtrain,ytrain)\n",
    "    if threshold != None:\n",
    "        ypred = [1 if i == True else 0 for i in (pipe.predict_proba(xtest)[:,1] >= threshold).astype(bool)]\n",
    "    else:\n",
    "        ypred = pipe.predict(xtest)\n",
    "    print(cr(ytest,ypred))\n",
    "    return pipe"
   ]
  },
  {
   "cell_type": "markdown",
   "metadata": {},
   "source": [
    "# Model Building"
   ]
  },
  {
   "cell_type": "code",
   "execution_count": 32,
   "metadata": {
    "execution": {
     "iopub.execute_input": "2022-01-05T13:29:52.185256Z",
     "iopub.status.busy": "2022-01-05T13:29:52.185000Z",
     "iopub.status.idle": "2022-01-05T13:30:46.306173Z",
     "shell.execute_reply": "2022-01-05T13:30:46.305268Z",
     "shell.execute_reply.started": "2022-01-05T13:29:52.185228Z"
    }
   },
   "outputs": [
    {
     "name": "stdout",
     "output_type": "stream",
     "text": [
      "LogisticRegression \n",
      "\n",
      "              precision    recall  f1-score   support\n",
      "\n",
      "           0       0.93      0.97      0.95      7308\n",
      "           1       0.66      0.41      0.50       928\n",
      "\n",
      "    accuracy                           0.91      8236\n",
      "   macro avg       0.79      0.69      0.73      8236\n",
      "weighted avg       0.90      0.91      0.90      8236\n",
      "\n",
      "\n",
      "\n",
      "\n",
      "DecisionTreeClassifier \n",
      "\n",
      "              precision    recall  f1-score   support\n",
      "\n",
      "           0       0.94      0.93      0.94      7308\n",
      "           1       0.51      0.53      0.52       928\n",
      "\n",
      "    accuracy                           0.89      8236\n",
      "   macro avg       0.72      0.73      0.73      8236\n",
      "weighted avg       0.89      0.89      0.89      8236\n",
      "\n",
      "\n",
      "\n",
      "\n",
      "SVC \n",
      "\n",
      "              precision    recall  f1-score   support\n",
      "\n",
      "           0       0.91      0.98      0.94      7308\n",
      "           1       0.62      0.21      0.31       928\n",
      "\n",
      "    accuracy                           0.90      8236\n",
      "   macro avg       0.76      0.59      0.63      8236\n",
      "weighted avg       0.87      0.90      0.87      8236\n",
      "\n",
      "\n",
      "\n",
      "\n",
      "KNeighborsClassifier \n",
      "\n",
      "              precision    recall  f1-score   support\n",
      "\n",
      "           0       0.94      0.96      0.95      7308\n",
      "           1       0.61      0.50      0.55       928\n",
      "\n",
      "    accuracy                           0.91      8236\n",
      "   macro avg       0.77      0.73      0.75      8236\n",
      "weighted avg       0.90      0.91      0.90      8236\n",
      "\n",
      "\n",
      "\n",
      "\n",
      "RandomForestClassifier \n",
      "\n",
      "              precision    recall  f1-score   support\n",
      "\n",
      "           0       0.93      0.97      0.95      7308\n",
      "           1       0.66      0.47      0.55       928\n",
      "\n",
      "    accuracy                           0.91      8236\n",
      "   macro avg       0.80      0.72      0.75      8236\n",
      "weighted avg       0.90      0.91      0.91      8236\n",
      "\n",
      "\n",
      "\n",
      "\n",
      "GradientBoostingClassifier \n",
      "\n",
      "              precision    recall  f1-score   support\n",
      "\n",
      "           0       0.94      0.96      0.95      7308\n",
      "           1       0.66      0.53      0.59       928\n",
      "\n",
      "    accuracy                           0.92      8236\n",
      "   macro avg       0.80      0.75      0.77      8236\n",
      "weighted avg       0.91      0.92      0.91      8236\n",
      "\n",
      "\n",
      "\n",
      "\n",
      "LGBMClassifier \n",
      "\n",
      "              precision    recall  f1-score   support\n",
      "\n",
      "           0       0.94      0.96      0.95      7308\n",
      "           1       0.65      0.56      0.60       928\n",
      "\n",
      "    accuracy                           0.92      8236\n",
      "   macro avg       0.80      0.76      0.78      8236\n",
      "weighted avg       0.91      0.92      0.91      8236\n",
      "\n",
      "\n",
      "\n",
      "\n"
     ]
    }
   ],
   "source": [
    "for mod in list(models.keys()):\n",
    "    print(mod,'\\n')\n",
    "    create_encoder_comparator(df,models[mod],encoders['OneHotEncoder'])\n",
    "    \n",
    "    print('\\n\\n')"
   ]
  },
  {
   "cell_type": "markdown",
   "metadata": {
    "execution": {
     "iopub.execute_input": "2022-01-05T02:55:27.120010Z",
     "iopub.status.busy": "2022-01-05T02:55:27.119697Z",
     "iopub.status.idle": "2022-01-05T02:55:27.123733Z",
     "shell.execute_reply": "2022-01-05T02:55:27.123043Z",
     "shell.execute_reply.started": "2022-01-05T02:55:27.119962Z"
    }
   },
   "source": [
    "## Comparing Encoder performance"
   ]
  },
  {
   "cell_type": "markdown",
   "metadata": {},
   "source": [
    "### LogisticRegression"
   ]
  },
  {
   "cell_type": "code",
   "execution_count": 33,
   "metadata": {
    "execution": {
     "iopub.execute_input": "2022-01-05T13:30:55.709127Z",
     "iopub.status.busy": "2022-01-05T13:30:55.708867Z",
     "iopub.status.idle": "2022-01-05T13:30:57.194578Z",
     "shell.execute_reply": "2022-01-05T13:30:57.193449Z",
     "shell.execute_reply.started": "2022-01-05T13:30:55.709099Z"
    }
   },
   "outputs": [
    {
     "name": "stdout",
     "output_type": "stream",
     "text": [
      "OneHotEncoder \n",
      "\n",
      "              precision    recall  f1-score   support\n",
      "\n",
      "           0       0.93      0.97      0.95      7308\n",
      "           1       0.66      0.41      0.50       928\n",
      "\n",
      "    accuracy                           0.91      8236\n",
      "   macro avg       0.79      0.69      0.73      8236\n",
      "weighted avg       0.90      0.91      0.90      8236\n",
      "\n",
      "\n",
      "\n",
      "\n",
      "OrdinalEncoder \n",
      "\n",
      "              precision    recall  f1-score   support\n",
      "\n",
      "           0       0.93      0.97      0.95      7308\n",
      "           1       0.66      0.41      0.51       928\n",
      "\n",
      "    accuracy                           0.91      8236\n",
      "   macro avg       0.80      0.69      0.73      8236\n",
      "weighted avg       0.90      0.91      0.90      8236\n",
      "\n",
      "\n",
      "\n",
      "\n",
      "TargetEncoder \n",
      "\n",
      "              precision    recall  f1-score   support\n",
      "\n",
      "           0       0.93      0.97      0.95      7308\n",
      "           1       0.66      0.41      0.50       928\n",
      "\n",
      "    accuracy                           0.91      8236\n",
      "   macro avg       0.79      0.69      0.73      8236\n",
      "weighted avg       0.90      0.91      0.90      8236\n",
      "\n",
      "\n",
      "\n",
      "\n"
     ]
    }
   ],
   "source": [
    "for enc in list(encoders.keys()):\n",
    "    print(enc,'\\n')\n",
    "    create_encoder_comparator(df,models['LogisticRegression'],encoders[enc])\n",
    "    print('\\n\\n')"
   ]
  },
  {
   "cell_type": "markdown",
   "metadata": {},
   "source": [
    "### DecisionTreeClassifier"
   ]
  },
  {
   "cell_type": "code",
   "execution_count": 34,
   "metadata": {
    "execution": {
     "iopub.execute_input": "2022-01-05T13:31:03.325399Z",
     "iopub.status.busy": "2022-01-05T13:31:03.325101Z",
     "iopub.status.idle": "2022-01-05T13:31:04.758881Z",
     "shell.execute_reply": "2022-01-05T13:31:04.758084Z",
     "shell.execute_reply.started": "2022-01-05T13:31:03.325356Z"
    }
   },
   "outputs": [
    {
     "name": "stdout",
     "output_type": "stream",
     "text": [
      "OneHotEncoder \n",
      "\n",
      "              precision    recall  f1-score   support\n",
      "\n",
      "           0       0.94      0.93      0.94      7308\n",
      "           1       0.51      0.53      0.52       928\n",
      "\n",
      "    accuracy                           0.89      8236\n",
      "   macro avg       0.72      0.73      0.73      8236\n",
      "weighted avg       0.89      0.89      0.89      8236\n",
      "\n",
      "\n",
      "\n",
      "\n",
      "OrdinalEncoder \n",
      "\n",
      "              precision    recall  f1-score   support\n",
      "\n",
      "           0       0.94      0.93      0.93      7308\n",
      "           1       0.48      0.50      0.49       928\n",
      "\n",
      "    accuracy                           0.88      8236\n",
      "   macro avg       0.71      0.72      0.71      8236\n",
      "weighted avg       0.88      0.88      0.88      8236\n",
      "\n",
      "\n",
      "\n",
      "\n",
      "TargetEncoder \n",
      "\n",
      "              precision    recall  f1-score   support\n",
      "\n",
      "           0       0.94      0.94      0.94      7308\n",
      "           1       0.50      0.51      0.51       928\n",
      "\n",
      "    accuracy                           0.89      8236\n",
      "   macro avg       0.72      0.72      0.72      8236\n",
      "weighted avg       0.89      0.89      0.89      8236\n",
      "\n",
      "\n",
      "\n",
      "\n"
     ]
    }
   ],
   "source": [
    "for enc in list(encoders.keys()):\n",
    "    print(enc,'\\n')\n",
    "    create_encoder_comparator(df,models['DecisionTreeClassifier'],encoders[enc])\n",
    "    print('\\n\\n')"
   ]
  },
  {
   "cell_type": "markdown",
   "metadata": {},
   "source": [
    "### SVC"
   ]
  },
  {
   "cell_type": "code",
   "execution_count": 35,
   "metadata": {
    "execution": {
     "iopub.execute_input": "2022-01-05T13:31:13.137577Z",
     "iopub.status.busy": "2022-01-05T13:31:13.137272Z",
     "iopub.status.idle": "2022-01-05T13:32:22.485385Z",
     "shell.execute_reply": "2022-01-05T13:32:22.484418Z",
     "shell.execute_reply.started": "2022-01-05T13:31:13.137542Z"
    }
   },
   "outputs": [
    {
     "name": "stdout",
     "output_type": "stream",
     "text": [
      "OneHotEncoder \n",
      "\n",
      "              precision    recall  f1-score   support\n",
      "\n",
      "           0       0.91      0.98      0.94      7308\n",
      "           1       0.62      0.21      0.31       928\n",
      "\n",
      "    accuracy                           0.90      8236\n",
      "   macro avg       0.76      0.59      0.63      8236\n",
      "weighted avg       0.87      0.90      0.87      8236\n",
      "\n",
      "\n",
      "\n",
      "\n",
      "OrdinalEncoder \n",
      "\n",
      "              precision    recall  f1-score   support\n",
      "\n",
      "           0       0.91      0.98      0.94      7308\n",
      "           1       0.62      0.21      0.31       928\n",
      "\n",
      "    accuracy                           0.90      8236\n",
      "   macro avg       0.76      0.60      0.63      8236\n",
      "weighted avg       0.87      0.90      0.87      8236\n",
      "\n",
      "\n",
      "\n",
      "\n",
      "TargetEncoder \n",
      "\n",
      "              precision    recall  f1-score   support\n",
      "\n",
      "           0       0.91      0.98      0.94      7308\n",
      "           1       0.62      0.21      0.31       928\n",
      "\n",
      "    accuracy                           0.90      8236\n",
      "   macro avg       0.76      0.60      0.63      8236\n",
      "weighted avg       0.87      0.90      0.87      8236\n",
      "\n",
      "\n",
      "\n",
      "\n"
     ]
    }
   ],
   "source": [
    "for enc in list(encoders.keys()):\n",
    "    print(enc,'\\n')\n",
    "    create_encoder_comparator(df,models['SVC'],encoders[enc])\n",
    "    print('\\n\\n')"
   ]
  },
  {
   "cell_type": "markdown",
   "metadata": {},
   "source": [
    "### KNeighborsClassifier"
   ]
  },
  {
   "cell_type": "code",
   "execution_count": 36,
   "metadata": {
    "execution": {
     "iopub.execute_input": "2022-01-05T13:33:07.945489Z",
     "iopub.status.busy": "2022-01-05T13:33:07.945180Z",
     "iopub.status.idle": "2022-01-05T13:33:12.275348Z",
     "shell.execute_reply": "2022-01-05T13:33:12.274465Z",
     "shell.execute_reply.started": "2022-01-05T13:33:07.945454Z"
    }
   },
   "outputs": [
    {
     "name": "stdout",
     "output_type": "stream",
     "text": [
      "OneHotEncoder \n",
      "\n",
      "              precision    recall  f1-score   support\n",
      "\n",
      "           0       0.94      0.96      0.95      7308\n",
      "           1       0.61      0.50      0.55       928\n",
      "\n",
      "    accuracy                           0.91      8236\n",
      "   macro avg       0.77      0.73      0.75      8236\n",
      "weighted avg       0.90      0.91      0.90      8236\n",
      "\n",
      "\n",
      "\n",
      "\n",
      "OrdinalEncoder \n",
      "\n",
      "              precision    recall  f1-score   support\n",
      "\n",
      "           0       0.94      0.96      0.95      7308\n",
      "           1       0.60      0.49      0.54       928\n",
      "\n",
      "    accuracy                           0.91      8236\n",
      "   macro avg       0.77      0.72      0.74      8236\n",
      "weighted avg       0.90      0.91      0.90      8236\n",
      "\n",
      "\n",
      "\n",
      "\n",
      "TargetEncoder \n",
      "\n",
      "              precision    recall  f1-score   support\n",
      "\n",
      "           0       0.94      0.96      0.95      7308\n",
      "           1       0.61      0.49      0.54       928\n",
      "\n",
      "    accuracy                           0.91      8236\n",
      "   macro avg       0.77      0.73      0.75      8236\n",
      "weighted avg       0.90      0.91      0.90      8236\n",
      "\n",
      "\n",
      "\n",
      "\n"
     ]
    }
   ],
   "source": [
    "for enc in list(encoders.keys()):\n",
    "    print(enc,'\\n')\n",
    "    create_encoder_comparator(df,models['KNeighborsClassifier'],encoders[enc])\n",
    "    print('\\n\\n')"
   ]
  },
  {
   "cell_type": "markdown",
   "metadata": {},
   "source": [
    "### RandomForestClassifier"
   ]
  },
  {
   "cell_type": "code",
   "execution_count": 37,
   "metadata": {
    "execution": {
     "iopub.execute_input": "2022-01-05T13:33:23.399447Z",
     "iopub.status.busy": "2022-01-05T13:33:23.399124Z",
     "iopub.status.idle": "2022-01-05T13:33:28.708709Z",
     "shell.execute_reply": "2022-01-05T13:33:28.707852Z",
     "shell.execute_reply.started": "2022-01-05T13:33:23.399410Z"
    }
   },
   "outputs": [
    {
     "name": "stdout",
     "output_type": "stream",
     "text": [
      "OneHotEncoder \n",
      "\n",
      "              precision    recall  f1-score   support\n",
      "\n",
      "           0       0.93      0.97      0.95      7308\n",
      "           1       0.66      0.47      0.55       928\n",
      "\n",
      "    accuracy                           0.91      8236\n",
      "   macro avg       0.80      0.72      0.75      8236\n",
      "weighted avg       0.90      0.91      0.91      8236\n",
      "\n",
      "\n",
      "\n",
      "\n",
      "OrdinalEncoder \n",
      "\n",
      "              precision    recall  f1-score   support\n",
      "\n",
      "           0       0.94      0.97      0.95      7308\n",
      "           1       0.66      0.52      0.58       928\n",
      "\n",
      "    accuracy                           0.92      8236\n",
      "   macro avg       0.80      0.74      0.77      8236\n",
      "weighted avg       0.91      0.92      0.91      8236\n",
      "\n",
      "\n",
      "\n",
      "\n",
      "TargetEncoder \n",
      "\n",
      "              precision    recall  f1-score   support\n",
      "\n",
      "           0       0.94      0.97      0.95      7308\n",
      "           1       0.66      0.52      0.58       928\n",
      "\n",
      "    accuracy                           0.92      8236\n",
      "   macro avg       0.80      0.74      0.77      8236\n",
      "weighted avg       0.91      0.92      0.91      8236\n",
      "\n",
      "\n",
      "\n",
      "\n"
     ]
    }
   ],
   "source": [
    "for enc in list(encoders.keys()):\n",
    "    print(enc,'\\n')\n",
    "    create_encoder_comparator(df,models['RandomForestClassifier'],encoders[enc])\n",
    "    print('\\n\\n')"
   ]
  },
  {
   "cell_type": "markdown",
   "metadata": {},
   "source": [
    "### GradientBoostingClassifier"
   ]
  },
  {
   "cell_type": "code",
   "execution_count": 38,
   "metadata": {
    "execution": {
     "iopub.execute_input": "2022-01-05T13:33:44.951432Z",
     "iopub.status.busy": "2022-01-05T13:33:44.950688Z",
     "iopub.status.idle": "2022-01-05T13:34:03.969306Z",
     "shell.execute_reply": "2022-01-05T13:34:03.968479Z",
     "shell.execute_reply.started": "2022-01-05T13:33:44.951390Z"
    }
   },
   "outputs": [
    {
     "name": "stdout",
     "output_type": "stream",
     "text": [
      "OneHotEncoder \n",
      "\n",
      "              precision    recall  f1-score   support\n",
      "\n",
      "           0       0.94      0.96      0.95      7308\n",
      "           1       0.66      0.53      0.59       928\n",
      "\n",
      "    accuracy                           0.92      8236\n",
      "   macro avg       0.80      0.75      0.77      8236\n",
      "weighted avg       0.91      0.92      0.91      8236\n",
      "\n",
      "\n",
      "\n",
      "\n",
      "OrdinalEncoder \n",
      "\n",
      "              precision    recall  f1-score   support\n",
      "\n",
      "           0       0.94      0.97      0.95      7308\n",
      "           1       0.66      0.53      0.59       928\n",
      "\n",
      "    accuracy                           0.92      8236\n",
      "   macro avg       0.80      0.75      0.77      8236\n",
      "weighted avg       0.91      0.92      0.91      8236\n",
      "\n",
      "\n",
      "\n",
      "\n",
      "TargetEncoder \n",
      "\n",
      "              precision    recall  f1-score   support\n",
      "\n",
      "           0       0.94      0.96      0.95      7308\n",
      "           1       0.66      0.53      0.59       928\n",
      "\n",
      "    accuracy                           0.92      8236\n",
      "   macro avg       0.80      0.75      0.77      8236\n",
      "weighted avg       0.91      0.92      0.91      8236\n",
      "\n",
      "\n",
      "\n",
      "\n"
     ]
    }
   ],
   "source": [
    "for enc in list(encoders.keys()):\n",
    "    print(enc,'\\n')\n",
    "    create_encoder_comparator(df,models['GradientBoostingClassifier'],encoders[enc])\n",
    "    print('\\n\\n')"
   ]
  },
  {
   "cell_type": "markdown",
   "metadata": {},
   "source": [
    "### LGBMClassifier"
   ]
  },
  {
   "cell_type": "code",
   "execution_count": 39,
   "metadata": {
    "execution": {
     "iopub.execute_input": "2022-01-05T13:34:11.999166Z",
     "iopub.status.busy": "2022-01-05T13:34:11.998863Z",
     "iopub.status.idle": "2022-01-05T13:34:14.129400Z",
     "shell.execute_reply": "2022-01-05T13:34:14.128417Z",
     "shell.execute_reply.started": "2022-01-05T13:34:11.999132Z"
    }
   },
   "outputs": [
    {
     "name": "stdout",
     "output_type": "stream",
     "text": [
      "OneHotEncoder \n",
      "\n",
      "              precision    recall  f1-score   support\n",
      "\n",
      "           0       0.94      0.96      0.95      7308\n",
      "           1       0.65      0.56      0.60       928\n",
      "\n",
      "    accuracy                           0.92      8236\n",
      "   macro avg       0.80      0.76      0.78      8236\n",
      "weighted avg       0.91      0.92      0.91      8236\n",
      "\n",
      "\n",
      "\n",
      "\n",
      "OrdinalEncoder \n",
      "\n",
      "              precision    recall  f1-score   support\n",
      "\n",
      "           0       0.95      0.96      0.95      7308\n",
      "           1       0.65      0.56      0.60       928\n",
      "\n",
      "    accuracy                           0.92      8236\n",
      "   macro avg       0.80      0.76      0.78      8236\n",
      "weighted avg       0.91      0.92      0.91      8236\n",
      "\n",
      "\n",
      "\n",
      "\n",
      "TargetEncoder \n",
      "\n",
      "              precision    recall  f1-score   support\n",
      "\n",
      "           0       0.95      0.96      0.95      7308\n",
      "           1       0.66      0.56      0.60       928\n",
      "\n",
      "    accuracy                           0.92      8236\n",
      "   macro avg       0.80      0.76      0.78      8236\n",
      "weighted avg       0.91      0.92      0.91      8236\n",
      "\n",
      "\n",
      "\n",
      "\n"
     ]
    }
   ],
   "source": [
    "for enc in list(encoders.keys()):\n",
    "    print(enc,'\\n')\n",
    "    create_encoder_comparator(df,models['LGBMClassifier'],encoders[enc])\n",
    "    print('\\n\\n')"
   ]
  },
  {
   "cell_type": "markdown",
   "metadata": {},
   "source": [
    "***since the data is severly imbalanced, model selection will be based on harmonic mean of precision and recall (f1 score) from positive targets***\n",
    "### **1. initial models**\n",
    "\n",
    "the weakest algorithm is SVC with 31% and the best algorithm is LGBMClassifier\n",
    "\n",
    "### **2. encoders comparison**\n",
    "    1. LR - OrdinalEncoder with 51% f1\n",
    "    2. DTC - OneHotEncoder wih 51% f1\n",
    "    3. SVC - all same with 31% f1\n",
    "    4. KNC - OneHotEncoder with 55% f1\n",
    "    5. RFC - either Ordinal or Target Encoder with 58% f1\n",
    "    6. GBC - all same with 59% f1\n",
    "    7. LGBM - all same with 60% f1 but Target Encoder slightly better with precision of 66%"
   ]
  },
  {
   "cell_type": "markdown",
   "metadata": {},
   "source": [
    "## Numerical Transformer Comparison"
   ]
  },
  {
   "cell_type": "markdown",
   "metadata": {},
   "source": [
    "### Logistic Regression"
   ]
  },
  {
   "cell_type": "code",
   "execution_count": 40,
   "metadata": {
    "execution": {
     "iopub.execute_input": "2022-01-05T13:34:33.069743Z",
     "iopub.status.busy": "2022-01-05T13:34:33.069470Z",
     "iopub.status.idle": "2022-01-05T13:34:34.773721Z",
     "shell.execute_reply": "2022-01-05T13:34:34.772621Z",
     "shell.execute_reply.started": "2022-01-05T13:34:33.069715Z"
    }
   },
   "outputs": [
    {
     "name": "stdout",
     "output_type": "stream",
     "text": [
      "YeoJohnson \n",
      "\n",
      "              precision    recall  f1-score   support\n",
      "\n",
      "           0       0.93      0.97      0.95      7308\n",
      "           1       0.63      0.41      0.50       928\n",
      "\n",
      "    accuracy                           0.91      8236\n",
      "   macro avg       0.78      0.69      0.72      8236\n",
      "weighted avg       0.90      0.91      0.90      8236\n",
      "\n",
      "\n",
      "\n",
      "\n",
      "cbrt \n",
      "\n",
      "              precision    recall  f1-score   support\n",
      "\n",
      "           0       0.93      0.97      0.95      7308\n",
      "           1       0.62      0.41      0.49       928\n",
      "\n",
      "    accuracy                           0.91      8236\n",
      "   macro avg       0.78      0.69      0.72      8236\n",
      "weighted avg       0.89      0.91      0.90      8236\n",
      "\n",
      "\n",
      "\n",
      "\n"
     ]
    }
   ],
   "source": [
    "for trans in list(numTransformers.keys()):\n",
    "    print(trans,'\\n')\n",
    "    create_numTransformer_comparator(df,\n",
    "                                    models['LogisticRegression'],\n",
    "                                    encoders['TargetEncoder'],\n",
    "                                    numTransformers[trans])\n",
    "    print('\\n\\n')"
   ]
  },
  {
   "cell_type": "markdown",
   "metadata": {},
   "source": [
    "### DecisionTreeClassifier"
   ]
  },
  {
   "cell_type": "code",
   "execution_count": 41,
   "metadata": {
    "execution": {
     "iopub.execute_input": "2022-01-05T13:34:39.087423Z",
     "iopub.status.busy": "2022-01-05T13:34:39.087103Z",
     "iopub.status.idle": "2022-01-05T13:34:40.613790Z",
     "shell.execute_reply": "2022-01-05T13:34:40.612726Z",
     "shell.execute_reply.started": "2022-01-05T13:34:39.087386Z"
    }
   },
   "outputs": [
    {
     "name": "stdout",
     "output_type": "stream",
     "text": [
      "YeoJohnson \n",
      "\n",
      "              precision    recall  f1-score   support\n",
      "\n",
      "           0       0.94      0.93      0.93      7308\n",
      "           1       0.49      0.49      0.49       928\n",
      "\n",
      "    accuracy                           0.88      8236\n",
      "   macro avg       0.71      0.71      0.71      8236\n",
      "weighted avg       0.88      0.88      0.88      8236\n",
      "\n",
      "\n",
      "\n",
      "\n",
      "cbrt \n",
      "\n",
      "              precision    recall  f1-score   support\n",
      "\n",
      "           0       0.94      0.94      0.94      7308\n",
      "           1       0.50      0.51      0.51       928\n",
      "\n",
      "    accuracy                           0.89      8236\n",
      "   macro avg       0.72      0.72      0.72      8236\n",
      "weighted avg       0.89      0.89      0.89      8236\n",
      "\n",
      "\n",
      "\n",
      "\n"
     ]
    }
   ],
   "source": [
    "for trans in list(numTransformers.keys()):\n",
    "    print(trans,'\\n')\n",
    "    create_numTransformer_comparator(df,\n",
    "                                    models['DecisionTreeClassifier'],\n",
    "                                    encoders['TargetEncoder'],\n",
    "                                    numTransformers[trans])\n",
    "    print('\\n\\n')"
   ]
  },
  {
   "cell_type": "markdown",
   "metadata": {},
   "source": [
    "### SVC"
   ]
  },
  {
   "cell_type": "code",
   "execution_count": 42,
   "metadata": {
    "execution": {
     "iopub.execute_input": "2022-01-05T13:34:41.920073Z",
     "iopub.status.busy": "2022-01-05T13:34:41.919413Z",
     "iopub.status.idle": "2022-01-05T13:35:10.888629Z",
     "shell.execute_reply": "2022-01-05T13:35:10.887722Z",
     "shell.execute_reply.started": "2022-01-05T13:34:41.920027Z"
    }
   },
   "outputs": [
    {
     "name": "stdout",
     "output_type": "stream",
     "text": [
      "YeoJohnson \n",
      "\n",
      "              precision    recall  f1-score   support\n",
      "\n",
      "           0       0.92      0.98      0.95      7308\n",
      "           1       0.69      0.37      0.48       928\n",
      "\n",
      "    accuracy                           0.91      8236\n",
      "   macro avg       0.81      0.67      0.72      8236\n",
      "weighted avg       0.90      0.91      0.90      8236\n",
      "\n",
      "\n",
      "\n",
      "\n",
      "cbrt \n",
      "\n",
      "              precision    recall  f1-score   support\n",
      "\n",
      "           0       0.91      0.98      0.94      7308\n",
      "           1       0.62      0.20      0.30       928\n",
      "\n",
      "    accuracy                           0.90      8236\n",
      "   macro avg       0.76      0.59      0.62      8236\n",
      "weighted avg       0.87      0.90      0.87      8236\n",
      "\n",
      "\n",
      "\n",
      "\n"
     ]
    }
   ],
   "source": [
    "for trans in list(numTransformers.keys()):\n",
    "    print(trans,'\\n')\n",
    "    create_numTransformer_comparator(df,\n",
    "                                    models['SVC'],\n",
    "                                    encoders['TargetEncoder'],\n",
    "                                    numTransformers[trans])\n",
    "    print('\\n\\n')"
   ]
  },
  {
   "cell_type": "markdown",
   "metadata": {},
   "source": [
    "### KNeighborsClassifier"
   ]
  },
  {
   "cell_type": "code",
   "execution_count": 43,
   "metadata": {
    "execution": {
     "iopub.execute_input": "2022-01-05T13:35:10.890247Z",
     "iopub.status.busy": "2022-01-05T13:35:10.890044Z",
     "iopub.status.idle": "2022-01-05T13:35:14.027679Z",
     "shell.execute_reply": "2022-01-05T13:35:14.026575Z",
     "shell.execute_reply.started": "2022-01-05T13:35:10.890223Z"
    }
   },
   "outputs": [
    {
     "name": "stdout",
     "output_type": "stream",
     "text": [
      "YeoJohnson \n",
      "\n",
      "              precision    recall  f1-score   support\n",
      "\n",
      "           0       0.94      0.95      0.95      7308\n",
      "           1       0.59      0.51      0.55       928\n",
      "\n",
      "    accuracy                           0.90      8236\n",
      "   macro avg       0.76      0.73      0.75      8236\n",
      "weighted avg       0.90      0.90      0.90      8236\n",
      "\n",
      "\n",
      "\n",
      "\n",
      "cbrt \n",
      "\n",
      "              precision    recall  f1-score   support\n",
      "\n",
      "           0       0.94      0.95      0.95      7308\n",
      "           1       0.58      0.50      0.54       928\n",
      "\n",
      "    accuracy                           0.90      8236\n",
      "   macro avg       0.76      0.73      0.74      8236\n",
      "weighted avg       0.90      0.90      0.90      8236\n",
      "\n",
      "\n",
      "\n",
      "\n"
     ]
    }
   ],
   "source": [
    "for trans in list(numTransformers.keys()):\n",
    "    print(trans,'\\n')\n",
    "    create_numTransformer_comparator(df,\n",
    "                                    models['KNeighborsClassifier'],\n",
    "                                    encoders['TargetEncoder'],\n",
    "                                    numTransformers[trans])\n",
    "    print('\\n\\n')"
   ]
  },
  {
   "cell_type": "markdown",
   "metadata": {},
   "source": [
    "### RandomForestClassifier"
   ]
  },
  {
   "cell_type": "code",
   "execution_count": 44,
   "metadata": {
    "execution": {
     "iopub.execute_input": "2022-01-05T13:35:14.030027Z",
     "iopub.status.busy": "2022-01-05T13:35:14.029304Z",
     "iopub.status.idle": "2022-01-05T13:35:18.219206Z",
     "shell.execute_reply": "2022-01-05T13:35:18.218207Z",
     "shell.execute_reply.started": "2022-01-05T13:35:14.029981Z"
    }
   },
   "outputs": [
    {
     "name": "stdout",
     "output_type": "stream",
     "text": [
      "YeoJohnson \n",
      "\n",
      "              precision    recall  f1-score   support\n",
      "\n",
      "           0       0.94      0.97      0.95      7308\n",
      "           1       0.66      0.53      0.59       928\n",
      "\n",
      "    accuracy                           0.92      8236\n",
      "   macro avg       0.80      0.75      0.77      8236\n",
      "weighted avg       0.91      0.92      0.91      8236\n",
      "\n",
      "\n",
      "\n",
      "\n",
      "cbrt \n",
      "\n",
      "              precision    recall  f1-score   support\n",
      "\n",
      "           0       0.94      0.97      0.95      7308\n",
      "           1       0.66      0.52      0.58       928\n",
      "\n",
      "    accuracy                           0.92      8236\n",
      "   macro avg       0.80      0.74      0.77      8236\n",
      "weighted avg       0.91      0.92      0.91      8236\n",
      "\n",
      "\n",
      "\n",
      "\n"
     ]
    }
   ],
   "source": [
    "for trans in list(numTransformers.keys()):\n",
    "    print(trans,'\\n')\n",
    "    create_numTransformer_comparator(df,\n",
    "                                    models['RandomForestClassifier'],\n",
    "                                    encoders['TargetEncoder'],\n",
    "                                    numTransformers[trans])\n",
    "    print('\\n\\n')"
   ]
  },
  {
   "cell_type": "markdown",
   "metadata": {},
   "source": [
    "### GradientBoostingClassifier"
   ]
  },
  {
   "cell_type": "code",
   "execution_count": 45,
   "metadata": {
    "execution": {
     "iopub.execute_input": "2022-01-05T13:35:18.222050Z",
     "iopub.status.busy": "2022-01-05T13:35:18.221646Z",
     "iopub.status.idle": "2022-01-05T13:35:28.820532Z",
     "shell.execute_reply": "2022-01-05T13:35:28.819529Z",
     "shell.execute_reply.started": "2022-01-05T13:35:18.222005Z"
    }
   },
   "outputs": [
    {
     "name": "stdout",
     "output_type": "stream",
     "text": [
      "YeoJohnson \n",
      "\n",
      "              precision    recall  f1-score   support\n",
      "\n",
      "           0       0.94      0.97      0.95      7308\n",
      "           1       0.66      0.52      0.58       928\n",
      "\n",
      "    accuracy                           0.92      8236\n",
      "   macro avg       0.80      0.74      0.77      8236\n",
      "weighted avg       0.91      0.92      0.91      8236\n",
      "\n",
      "\n",
      "\n",
      "\n",
      "cbrt \n",
      "\n",
      "              precision    recall  f1-score   support\n",
      "\n",
      "           0       0.94      0.96      0.95      7308\n",
      "           1       0.66      0.53      0.59       928\n",
      "\n",
      "    accuracy                           0.92      8236\n",
      "   macro avg       0.80      0.75      0.77      8236\n",
      "weighted avg       0.91      0.92      0.91      8236\n",
      "\n",
      "\n",
      "\n",
      "\n"
     ]
    }
   ],
   "source": [
    "for trans in list(numTransformers.keys()):\n",
    "    print(trans,'\\n')\n",
    "    create_numTransformer_comparator(df,\n",
    "                                    models['GradientBoostingClassifier'],\n",
    "                                    encoders['TargetEncoder'],\n",
    "                                    numTransformers[trans])\n",
    "    print('\\n\\n')"
   ]
  },
  {
   "cell_type": "markdown",
   "metadata": {},
   "source": [
    "### LGBMClassifier"
   ]
  },
  {
   "cell_type": "code",
   "execution_count": 46,
   "metadata": {
    "execution": {
     "iopub.execute_input": "2022-01-05T13:35:28.822268Z",
     "iopub.status.busy": "2022-01-05T13:35:28.821966Z",
     "iopub.status.idle": "2022-01-05T13:35:30.641656Z",
     "shell.execute_reply": "2022-01-05T13:35:30.641022Z",
     "shell.execute_reply.started": "2022-01-05T13:35:28.822236Z"
    }
   },
   "outputs": [
    {
     "name": "stdout",
     "output_type": "stream",
     "text": [
      "YeoJohnson \n",
      "\n",
      "              precision    recall  f1-score   support\n",
      "\n",
      "           0       0.94      0.96      0.95      7308\n",
      "           1       0.64      0.55      0.59       928\n",
      "\n",
      "    accuracy                           0.91      8236\n",
      "   macro avg       0.79      0.76      0.77      8236\n",
      "weighted avg       0.91      0.91      0.91      8236\n",
      "\n",
      "\n",
      "\n",
      "\n",
      "cbrt \n",
      "\n",
      "              precision    recall  f1-score   support\n",
      "\n",
      "           0       0.95      0.96      0.95      7308\n",
      "           1       0.66      0.56      0.60       928\n",
      "\n",
      "    accuracy                           0.92      8236\n",
      "   macro avg       0.80      0.76      0.78      8236\n",
      "weighted avg       0.91      0.92      0.91      8236\n",
      "\n",
      "\n",
      "\n",
      "\n"
     ]
    }
   ],
   "source": [
    "for trans in list(numTransformers.keys()):\n",
    "    print(trans,'\\n')\n",
    "    create_numTransformer_comparator(df,\n",
    "                                    models['LGBMClassifier'],\n",
    "                                    encoders['TargetEncoder'],\n",
    "                                    numTransformers[trans])\n",
    "    print('\\n\\n')"
   ]
  },
  {
   "cell_type": "markdown",
   "metadata": {},
   "source": [
    "***we wil use harmonic mean of precision and recall (f1 score) from positive targets as our assessment tool***\n",
    "\n",
    "\n",
    "#### **encoders comparison**\n",
    "    1. LR - YJS is better with 50% f1\n",
    "    2. DTC - CBRT wih 51% f1\n",
    "    3. SVC - YJS is better at 48% f1\n",
    "    4. KNC - YJS with 55% f1\n",
    "    5. RFC - YJS with 59% f1\n",
    "    6. GBC - CBRT with 59% f1\n",
    "    7. LGBM - CBRT with 60% f1"
   ]
  },
  {
   "cell_type": "markdown",
   "metadata": {},
   "source": [
    "### LGBMClassifier Before Scaling"
   ]
  },
  {
   "cell_type": "code",
   "execution_count": 50,
   "metadata": {
    "execution": {
     "iopub.execute_input": "2022-01-05T14:18:24.335006Z",
     "iopub.status.busy": "2022-01-05T14:18:24.334659Z",
     "iopub.status.idle": "2022-01-05T14:18:25.463955Z",
     "shell.execute_reply": "2022-01-05T14:18:25.462968Z",
     "shell.execute_reply.started": "2022-01-05T14:18:24.334960Z"
    }
   },
   "outputs": [
    {
     "name": "stdout",
     "output_type": "stream",
     "text": [
      "LGBMClassifier \n",
      "\n",
      "              precision    recall  f1-score   support\n",
      "\n",
      "           0       0.94      0.96      0.95      7308\n",
      "           1       0.64      0.55      0.59       928\n",
      "\n",
      "    accuracy                           0.91      8236\n",
      "   macro avg       0.79      0.76      0.77      8236\n",
      "weighted avg       0.91      0.91      0.91      8236\n",
      "\n",
      "\n",
      "\n",
      "\n"
     ]
    }
   ],
   "source": [
    "print('LGBMClassifier','\\n')\n",
    "create_numTransformer_comparator(df,\n",
    "                                models['LGBMClassifier'],\n",
    "                                encoders['TargetEncoder'],\n",
    "                                numTransformers['YeoJohnson'])\n",
    "print('\\n\\n')"
   ]
  },
  {
   "cell_type": "markdown",
   "metadata": {},
   "source": [
    "### LGBMClassifier After Scaling"
   ]
  },
  {
   "cell_type": "code",
   "execution_count": 51,
   "metadata": {
    "execution": {
     "iopub.execute_input": "2022-01-05T14:18:25.465612Z",
     "iopub.status.busy": "2022-01-05T14:18:25.465370Z",
     "iopub.status.idle": "2022-01-05T14:18:29.253176Z",
     "shell.execute_reply": "2022-01-05T14:18:29.252119Z",
     "shell.execute_reply.started": "2022-01-05T14:18:25.465581Z"
    }
   },
   "outputs": [
    {
     "name": "stdout",
     "output_type": "stream",
     "text": [
      "MinMaxScaler \n",
      "\n",
      "              precision    recall  f1-score   support\n",
      "\n",
      "           0       0.94      0.96      0.95      7308\n",
      "           1       0.65      0.56      0.60       928\n",
      "\n",
      "    accuracy                           0.92      8236\n",
      "   macro avg       0.80      0.76      0.78      8236\n",
      "weighted avg       0.91      0.92      0.91      8236\n",
      "\n",
      "\n",
      "\n",
      "\n",
      "StandardScaler \n",
      "\n",
      "              precision    recall  f1-score   support\n",
      "\n",
      "           0       0.95      0.96      0.95      7308\n",
      "           1       0.65      0.56      0.60       928\n",
      "\n",
      "    accuracy                           0.92      8236\n",
      "   macro avg       0.80      0.76      0.78      8236\n",
      "weighted avg       0.91      0.92      0.91      8236\n",
      "\n",
      "\n",
      "\n",
      "\n",
      "RobustScaler \n",
      "\n",
      "              precision    recall  f1-score   support\n",
      "\n",
      "           0       0.94      0.96      0.95      7308\n",
      "           1       0.64      0.56      0.60       928\n",
      "\n",
      "    accuracy                           0.92      8236\n",
      "   macro avg       0.79      0.76      0.78      8236\n",
      "weighted avg       0.91      0.92      0.91      8236\n",
      "\n",
      "\n",
      "\n",
      "\n"
     ]
    }
   ],
   "source": [
    "for scaler in list(scalers.keys()):\n",
    "    print(scaler,'\\n')\n",
    "    pipe1 = create_full_model(df,\n",
    "                             models['LGBMClassifier'],\n",
    "                             encoders['TargetEncoder'],\n",
    "                             numTransformers['YeoJohnson'],\n",
    "                             scalers[scaler],\n",
    "                            )\n",
    "    print('\\n\\n')"
   ]
  },
  {
   "cell_type": "markdown",
   "metadata": {},
   "source": [
    "### GradientBoostingClassifier Before Scaling"
   ]
  },
  {
   "cell_type": "code",
   "execution_count": 54,
   "metadata": {
    "execution": {
     "iopub.execute_input": "2022-01-05T14:21:12.455699Z",
     "iopub.status.busy": "2022-01-05T14:21:12.455464Z",
     "iopub.status.idle": "2022-01-05T14:21:17.965397Z",
     "shell.execute_reply": "2022-01-05T14:21:17.964304Z",
     "shell.execute_reply.started": "2022-01-05T14:21:12.455670Z"
    }
   },
   "outputs": [
    {
     "name": "stdout",
     "output_type": "stream",
     "text": [
      "GradientBoostingClassifier \n",
      "\n",
      "              precision    recall  f1-score   support\n",
      "\n",
      "           0       0.94      0.97      0.95      7308\n",
      "           1       0.66      0.52      0.58       928\n",
      "\n",
      "    accuracy                           0.92      8236\n",
      "   macro avg       0.80      0.74      0.77      8236\n",
      "weighted avg       0.91      0.92      0.91      8236\n",
      "\n",
      "\n",
      "\n",
      "\n"
     ]
    }
   ],
   "source": [
    "print('GradientBoostingClassifier','\\n')\n",
    "create_numTransformer_comparator(df,\n",
    "                                models['GradientBoostingClassifier'],\n",
    "                                encoders['TargetEncoder'],\n",
    "                                numTransformers['YeoJohnson'])\n",
    "print('\\n\\n')"
   ]
  },
  {
   "cell_type": "markdown",
   "metadata": {},
   "source": [
    "### GradientBoostingClassifier After Scaling"
   ]
  },
  {
   "cell_type": "code",
   "execution_count": 55,
   "metadata": {
    "execution": {
     "iopub.execute_input": "2022-01-05T14:21:17.967087Z",
     "iopub.status.busy": "2022-01-05T14:21:17.966836Z",
     "iopub.status.idle": "2022-01-05T14:21:42.266267Z",
     "shell.execute_reply": "2022-01-05T14:21:42.265358Z",
     "shell.execute_reply.started": "2022-01-05T14:21:17.967058Z"
    }
   },
   "outputs": [
    {
     "name": "stdout",
     "output_type": "stream",
     "text": [
      "MinMaxScaler \n",
      "\n",
      "              precision    recall  f1-score   support\n",
      "\n",
      "           0       0.94      0.96      0.95      7308\n",
      "           1       0.66      0.53      0.59       928\n",
      "\n",
      "    accuracy                           0.92      8236\n",
      "   macro avg       0.80      0.75      0.77      8236\n",
      "weighted avg       0.91      0.92      0.91      8236\n",
      "\n",
      "\n",
      "\n",
      "\n",
      "StandardScaler \n",
      "\n",
      "              precision    recall  f1-score   support\n",
      "\n",
      "           0       0.94      0.96      0.95      7308\n",
      "           1       0.66      0.53      0.59       928\n",
      "\n",
      "    accuracy                           0.92      8236\n",
      "   macro avg       0.80      0.75      0.77      8236\n",
      "weighted avg       0.91      0.92      0.91      8236\n",
      "\n",
      "\n",
      "\n",
      "\n",
      "RobustScaler \n",
      "\n",
      "              precision    recall  f1-score   support\n",
      "\n",
      "           0       0.94      0.96      0.95      7308\n",
      "           1       0.66      0.53      0.59       928\n",
      "\n",
      "    accuracy                           0.92      8236\n",
      "   macro avg       0.80      0.75      0.77      8236\n",
      "weighted avg       0.91      0.92      0.91      8236\n",
      "\n",
      "\n",
      "\n",
      "\n"
     ]
    }
   ],
   "source": [
    "for scaler in list(scalers.keys()):\n",
    "    print(scaler,'\\n')\n",
    "    pipe1 = create_full_model(df,\n",
    "                             models['GradientBoostingClassifier'],\n",
    "                             encoders['TargetEncoder'],\n",
    "                             numTransformers['YeoJohnson'],\n",
    "                             scalers[scaler],\n",
    "                            )\n",
    "    print('\\n\\n')"
   ]
  },
  {
   "cell_type": "markdown",
   "metadata": {},
   "source": [
    "***clearly can be seen from the comparison that doing scaling increase the f1 score by averagely 1%. that's better than nothing***\n",
    "\n",
    "***and from the three scalers, picking them at random will do just fine as no difference exists between the three***"
   ]
  },
  {
   "cell_type": "markdown",
   "metadata": {},
   "source": [
    "# Model Selection\n",
    "\n",
    "#### as the result of model comparison using various encoding and transformation techniques am going to use the top 2 models, namely LGBMClassifier and GradientBoostingClassifier for Hyperparamter Tuning"
   ]
  },
  {
   "cell_type": "markdown",
   "metadata": {
    "execution": {
     "iopub.execute_input": "2022-01-05T14:40:32.382883Z",
     "iopub.status.busy": "2022-01-05T14:40:32.382615Z",
     "iopub.status.idle": "2022-01-05T14:40:32.386954Z",
     "shell.execute_reply": "2022-01-05T14:40:32.386024Z",
     "shell.execute_reply.started": "2022-01-05T14:40:32.382855Z"
    }
   },
   "source": [
    "### **5 Fold Cross Validation** "
   ]
  },
  {
   "cell_type": "markdown",
   "metadata": {},
   "source": [
    "#### **GradientBoostingClassifier**"
   ]
  },
  {
   "cell_type": "code",
   "execution_count": 82,
   "metadata": {
    "execution": {
     "iopub.execute_input": "2022-01-05T14:45:32.637821Z",
     "iopub.status.busy": "2022-01-05T14:45:32.637160Z",
     "iopub.status.idle": "2022-01-05T14:46:20.790410Z",
     "shell.execute_reply": "2022-01-05T14:46:20.789790Z",
     "shell.execute_reply.started": "2022-01-05T14:45:32.637780Z"
    }
   },
   "outputs": [
    {
     "name": "stdout",
     "output_type": "stream",
     "text": [
      "acc     0.915922\n",
      "prec    0.656519\n",
      "rec     0.532233\n",
      "f1      0.587704\n",
      "dtype: float64\n"
     ]
    }
   ],
   "source": [
    "df = pd.read_csv('../input/bank-additional-full/bank-additional-full.csv', delimiter = ';')\n",
    "df = df.drop_duplicates()\n",
    "pipe1 = create_full_model(df,\n",
    "                         models['GradientBoostingClassifier'],\n",
    "                         encoders['TargetEncoder'],\n",
    "                         numTransformers['YeoJohnson'],\n",
    "                         scalers['MinMaxScaler'],\n",
    "                        )\n",
    "met,rep = crossval_skfold(df,pipe1)"
   ]
  },
  {
   "cell_type": "code",
   "execution_count": 83,
   "metadata": {
    "execution": {
     "iopub.execute_input": "2022-01-05T14:46:20.792816Z",
     "iopub.status.busy": "2022-01-05T14:46:20.792258Z",
     "iopub.status.idle": "2022-01-05T14:47:08.662208Z",
     "shell.execute_reply": "2022-01-05T14:47:08.661390Z",
     "shell.execute_reply.started": "2022-01-05T14:46:20.792767Z"
    }
   },
   "outputs": [
    {
     "name": "stdout",
     "output_type": "stream",
     "text": [
      "acc     0.917258\n",
      "prec    0.664580\n",
      "rec     0.537597\n",
      "f1      0.594097\n",
      "dtype: float64\n"
     ]
    }
   ],
   "source": [
    "df = pd.read_csv('../input/bank-additional-full/bank-additional-full.csv', delimiter = ';')\n",
    "df = df.drop_duplicates()\n",
    "pipe1 = create_full_model(df,\n",
    "                         models['GradientBoostingClassifier'],\n",
    "                         encoders['TargetEncoder'],\n",
    "                         numTransformers['YeoJohnson'],\n",
    "                         scalers['MinMaxScaler'],\n",
    "                        )\n",
    "met,rep = crossval_kfold(df,pipe1)"
   ]
  },
  {
   "cell_type": "markdown",
   "metadata": {},
   "source": [
    "#### **LGBMClassifier**"
   ]
  },
  {
   "cell_type": "code",
   "execution_count": 84,
   "metadata": {
    "execution": {
     "iopub.execute_input": "2022-01-05T14:47:08.663664Z",
     "iopub.status.busy": "2022-01-05T14:47:08.663461Z",
     "iopub.status.idle": "2022-01-05T14:47:16.122089Z",
     "shell.execute_reply": "2022-01-05T14:47:16.121235Z",
     "shell.execute_reply.started": "2022-01-05T14:47:08.663639Z"
    }
   },
   "outputs": [
    {
     "name": "stdout",
     "output_type": "stream",
     "text": [
      "acc     0.917403\n",
      "prec    0.656679\n",
      "rec     0.559607\n",
      "f1      0.604077\n",
      "dtype: float64\n"
     ]
    }
   ],
   "source": [
    "df = pd.read_csv('../input/bank-additional-full/bank-additional-full.csv', delimiter = ';')\n",
    "df = df.drop_duplicates()\n",
    "pipe2 = create_full_model(df,\n",
    "                         models['LGBMClassifier'],\n",
    "                         encoders['TargetEncoder'],\n",
    "                         numTransformers['YeoJohnson'],\n",
    "                         scalers['MinMaxScaler'],\n",
    "                        )\n",
    "met,rep = crossval_skfold(df,pipe2)"
   ]
  },
  {
   "cell_type": "code",
   "execution_count": 85,
   "metadata": {
    "execution": {
     "iopub.execute_input": "2022-01-05T14:47:16.125117Z",
     "iopub.status.busy": "2022-01-05T14:47:16.124132Z",
     "iopub.status.idle": "2022-01-05T14:47:23.211179Z",
     "shell.execute_reply": "2022-01-05T14:47:23.210258Z",
     "shell.execute_reply.started": "2022-01-05T14:47:16.125071Z"
    }
   },
   "outputs": [
    {
     "name": "stdout",
     "output_type": "stream",
     "text": [
      "acc     0.918521\n",
      "prec    0.661083\n",
      "rec     0.568598\n",
      "f1      0.611267\n",
      "dtype: float64\n"
     ]
    }
   ],
   "source": [
    "df = pd.read_csv('../input/bank-additional-full/bank-additional-full.csv', delimiter = ';')\n",
    "df = df.drop_duplicates()\n",
    "pipe2 = create_full_model(df,\n",
    "                         models['LGBMClassifier'],\n",
    "                         encoders['TargetEncoder'],\n",
    "                         numTransformers['YeoJohnson'],\n",
    "                         scalers['MinMaxScaler'],\n",
    "                        )\n",
    "met,rep = crossval_kfold(df,pipe2)"
   ]
  },
  {
   "cell_type": "markdown",
   "metadata": {},
   "source": [
    "#### **LGBM seems to be doing slightly better by 1% or 2%, so for the final model i am going to use LGBM**"
   ]
  },
  {
   "cell_type": "markdown",
   "metadata": {
    "execution": {
     "iopub.execute_input": "2022-01-05T15:05:49.492311Z",
     "iopub.status.busy": "2022-01-05T15:05:49.491533Z",
     "iopub.status.idle": "2022-01-05T15:05:49.496472Z",
     "shell.execute_reply": "2022-01-05T15:05:49.495429Z",
     "shell.execute_reply.started": "2022-01-05T15:05:49.492262Z"
    }
   },
   "source": [
    "# Model Finalization"
   ]
  },
  {
   "cell_type": "markdown",
   "metadata": {
    "execution": {
     "iopub.execute_input": "2022-01-05T14:48:11.417439Z",
     "iopub.status.busy": "2022-01-05T14:48:11.416593Z",
     "iopub.status.idle": "2022-01-05T14:48:11.421173Z",
     "shell.execute_reply": "2022-01-05T14:48:11.420336Z",
     "shell.execute_reply.started": "2022-01-05T14:48:11.417401Z"
    }
   },
   "source": [
    "### **Threshold Tuning**"
   ]
  },
  {
   "cell_type": "code",
   "execution_count": 93,
   "metadata": {
    "execution": {
     "iopub.execute_input": "2022-01-05T15:00:36.645111Z",
     "iopub.status.busy": "2022-01-05T15:00:36.644189Z",
     "iopub.status.idle": "2022-01-05T15:01:45.812198Z",
     "shell.execute_reply": "2022-01-05T15:01:45.811333Z",
     "shell.execute_reply.started": "2022-01-05T15:00:36.645075Z"
    }
   },
   "outputs": [
    {
     "data": {
      "image/png": "[encoded data removed]",
      "text/plain": [
       "<Figure size 576x396 with 1 Axes>"
      ]
     },
     "metadata": {},
     "output_type": "display_data"
    }
   ],
   "source": [
    "df = pd.read_csv('../input/bank-additional-full/bank-additional-full.csv', delimiter = ';')\n",
    "df = df.drop_duplicates()\n",
    "pipe = create_full_model(df,\n",
    "                         models['LGBMClassifier'],\n",
    "                         encoders['TargetEncoder'],\n",
    "                         numTransformers['YeoJohnson'],\n",
    "                         scalers['MinMaxScaler'],\n",
    "                         )\n",
    "clear_output()\n",
    "dt_plot(df,pipe)"
   ]
  },
  {
   "cell_type": "markdown",
   "metadata": {},
   "source": [
    "by default DiscriminantThreshold will try to find the optimal threshold based on f1 score. <br>\n",
    "as we can see our f1 is at its best when the threshold equals to 0.29. "
   ]
  },
  {
   "cell_type": "markdown",
   "metadata": {
    "execution": {
     "iopub.execute_input": "2022-01-05T16:02:39.169414Z",
     "iopub.status.busy": "2022-01-05T16:02:39.168726Z",
     "iopub.status.idle": "2022-01-05T16:02:39.172868Z",
     "shell.execute_reply": "2022-01-05T16:02:39.172315Z",
     "shell.execute_reply.started": "2022-01-05T16:02:39.169377Z"
    }
   },
   "source": [
    "### **GridSearchCV**"
   ]
  },
  {
   "cell_type": "code",
   "execution_count": 133,
   "metadata": {
    "execution": {
     "iopub.execute_input": "2022-01-05T15:57:00.878698Z",
     "iopub.status.busy": "2022-01-05T15:57:00.877987Z",
     "iopub.status.idle": "2022-01-05T16:01:03.315700Z",
     "shell.execute_reply": "2022-01-05T16:01:03.314918Z",
     "shell.execute_reply.started": "2022-01-05T15:57:00.878654Z"
    }
   },
   "outputs": [],
   "source": [
    "params = {\n",
    "    'mod__boosting_type':['gbdt','dart','rf'],\n",
    "    'mod__max_depth': [-1, 3, 5],\n",
    "    'mod__n_estimators': [50, 100, 200, 500]\n",
    "}\n",
    "\n",
    "df = pd.read_csv('../input/bank-additional-full/bank-additional-full.csv', delimiter = ';')\n",
    "df = df.drop_duplicates()\n",
    "\n",
    "x = df[df.columns[:-1]]\n",
    "y = df[df.columns[-1]]\n",
    "y = [1 if i == 'yes' else 0 for i in y]\n",
    "\n",
    "num_cols = x.dtypes[x.dtypes != object].index\n",
    "obj_cols = x.dtypes[x.dtypes == object].index\n",
    "\n",
    "ct = mct(\n",
    "    (encoders['TargetEncoder'],obj_cols),\n",
    "    (numTransformers['YeoJohnson'],num_cols),\n",
    "    (scalers['MinMaxScaler'],num_cols),\n",
    "    remainder = 'passthrough'\n",
    ")\n",
    "\n",
    "pipe = Pipeline(\n",
    "    [\n",
    "        ('ct',ct),\n",
    "        ('mod',models['LGBMClassifier'])\n",
    "    ]\n",
    ")\n",
    "\n",
    "clf = GridSearchCV(pipe, params,n_jobs = -1,scoring ='f1')\n",
    "\n",
    "clf.fit(x,y)\n",
    "clear_output()"
   ]
  },
  {
   "cell_type": "code",
   "execution_count": 159,
   "metadata": {
    "execution": {
     "iopub.execute_input": "2022-01-05T16:19:02.256169Z",
     "iopub.status.busy": "2022-01-05T16:19:02.255815Z",
     "iopub.status.idle": "2022-01-05T16:19:02.263292Z",
     "shell.execute_reply": "2022-01-05T16:19:02.262419Z",
     "shell.execute_reply.started": "2022-01-05T16:19:02.256136Z"
    }
   },
   "outputs": [
    {
     "data": {
      "text/plain": [
       "{'mod__boosting_type': 'dart', 'mod__max_depth': -1, 'mod__n_estimators': 50}"
      ]
     },
     "execution_count": 159,
     "metadata": {},
     "output_type": "execute_result"
    }
   ],
   "source": [
    "bp = clf.best_params_\n",
    "bp"
   ]
  },
  {
   "cell_type": "code",
   "execution_count": 144,
   "metadata": {
    "execution": {
     "iopub.execute_input": "2022-01-05T16:05:21.629183Z",
     "iopub.status.busy": "2022-01-05T16:05:21.628321Z",
     "iopub.status.idle": "2022-01-05T16:05:22.969075Z",
     "shell.execute_reply": "2022-01-05T16:05:22.968175Z",
     "shell.execute_reply.started": "2022-01-05T16:05:21.629142Z"
    }
   },
   "outputs": [
    {
     "name": "stdout",
     "output_type": "stream",
     "text": [
      "              precision    recall  f1-score   support\n",
      "\n",
      "           0       0.97      0.92      0.94      7308\n",
      "           1       0.54      0.78      0.64       928\n",
      "\n",
      "    accuracy                           0.90      8236\n",
      "   macro avg       0.76      0.85      0.79      8236\n",
      "weighted avg       0.92      0.90      0.91      8236\n",
      "\n"
     ]
    }
   ],
   "source": [
    "params = {'boosting_type': bp[list(bp.keys())[0]], 'max_depth': bp[list(bp.keys())[1]], 'n_estimators': bp[list(bp.keys())[2]]}\n",
    "\n",
    "df = pd.read_csv('../input/bank-additional-full/bank-additional-full.csv', delimiter = ';')\n",
    "df = df.drop_duplicates()\n",
    "pipe = create_full_model(df,\n",
    "                         LGBMClassifier(random_state = 42,**params),\n",
    "                         encoders['TargetEncoder'],\n",
    "                         numTransformers['YeoJohnson'],\n",
    "                         scalers['MinMaxScaler'],\n",
    "                         .3\n",
    "                         )"
   ]
  },
  {
   "cell_type": "code",
   "execution_count": 145,
   "metadata": {
    "execution": {
     "iopub.execute_input": "2022-01-05T16:05:27.268690Z",
     "iopub.status.busy": "2022-01-05T16:05:27.268330Z",
     "iopub.status.idle": "2022-01-05T16:06:31.111025Z",
     "shell.execute_reply": "2022-01-05T16:06:31.110147Z",
     "shell.execute_reply.started": "2022-01-05T16:05:27.268654Z"
    }
   },
   "outputs": [
    {
     "data": {
      "image/png": "[encoded data removed]",
      "text/plain": [
       "<Figure size 576x396 with 1 Axes>"
      ]
     },
     "metadata": {},
     "output_type": "display_data"
    }
   ],
   "source": [
    "dt_plot(df,pipe)"
   ]
  },
  {
   "cell_type": "code",
   "execution_count": 146,
   "metadata": {
    "execution": {
     "iopub.execute_input": "2022-01-05T16:07:05.857127Z",
     "iopub.status.busy": "2022-01-05T16:07:05.856829Z",
     "iopub.status.idle": "2022-01-05T16:07:07.223041Z",
     "shell.execute_reply": "2022-01-05T16:07:07.222019Z",
     "shell.execute_reply.started": "2022-01-05T16:07:05.857091Z"
    }
   },
   "outputs": [
    {
     "name": "stdout",
     "output_type": "stream",
     "text": [
      "              precision    recall  f1-score   support\n",
      "\n",
      "           0       0.96      0.93      0.95      7308\n",
      "           1       0.57      0.71      0.63       928\n",
      "\n",
      "    accuracy                           0.91      8236\n",
      "   macro avg       0.77      0.82      0.79      8236\n",
      "weighted avg       0.92      0.91      0.91      8236\n",
      "\n"
     ]
    }
   ],
   "source": [
    "params = {'boosting_type': bp[list(bp.keys())[0]], 'max_depth': bp[list(bp.keys())[1]], 'n_estimators': bp[list(bp.keys())[2]]}\n",
    "\n",
    "df = pd.read_csv('../input/bank-additional-full/bank-additional-full.csv', delimiter = ';')\n",
    "df = df.drop_duplicates()\n",
    "pipe = create_full_model(df,\n",
    "                         LGBMClassifier(random_state = 42,**params),\n",
    "                         encoders['TargetEncoder'],\n",
    "                         numTransformers['YeoJohnson'],\n",
    "                         scalers['MinMaxScaler'],\n",
    "                         .36\n",
    "                         )"
   ]
  },
  {
   "cell_type": "markdown",
   "metadata": {},
   "source": [
    "our model f1 score improved by 2% after all we've done. great! better than nothing"
   ]
  },
  {
   "cell_type": "markdown",
   "metadata": {},
   "source": [
    "# Model Inference"
   ]
  },
  {
   "cell_type": "markdown",
   "metadata": {},
   "source": [
    "### **we are going to take 1 sample from the original data frame at random and try to predict it using our new threshold to see whether our pipeline is working fine or not**"
   ]
  },
  {
   "cell_type": "code",
   "execution_count": 158,
   "metadata": {
    "execution": {
     "iopub.execute_input": "2022-01-05T16:18:04.909952Z",
     "iopub.status.busy": "2022-01-05T16:18:04.909632Z",
     "iopub.status.idle": "2022-01-05T16:18:04.968081Z",
     "shell.execute_reply": "2022-01-05T16:18:04.967408Z",
     "shell.execute_reply.started": "2022-01-05T16:18:04.909915Z"
    }
   },
   "outputs": [
    {
     "data": {
      "text/html": [
       "<div>\n",
       "<style scoped>\n",
       "    .dataframe tbody tr th:only-of-type {\n",
       "        vertical-align: middle;\n",
       "    }\n",
       "\n",
       "    .dataframe tbody tr th {\n",
       "        vertical-align: top;\n",
       "    }\n",
       "\n",
       "    .dataframe thead th {\n",
       "        text-align: right;\n",
       "    }\n",
       "</style>\n",
       "<table border=\"1\" class=\"dataframe\">\n",
       "  <thead>\n",
       "    <tr style=\"text-align: right;\">\n",
       "      <th></th>\n",
       "      <th>age</th>\n",
       "      <th>job</th>\n",
       "      <th>marital</th>\n",
       "      <th>education</th>\n",
       "      <th>default</th>\n",
       "      <th>housing</th>\n",
       "      <th>loan</th>\n",
       "      <th>contact</th>\n",
       "      <th>month</th>\n",
       "      <th>day_of_week</th>\n",
       "      <th>...</th>\n",
       "      <th>campaign</th>\n",
       "      <th>pdays</th>\n",
       "      <th>previous</th>\n",
       "      <th>poutcome</th>\n",
       "      <th>emp.var.rate</th>\n",
       "      <th>cons.price.idx</th>\n",
       "      <th>cons.conf.idx</th>\n",
       "      <th>euribor3m</th>\n",
       "      <th>nr.employed</th>\n",
       "      <th>y</th>\n",
       "    </tr>\n",
       "  </thead>\n",
       "  <tbody>\n",
       "    <tr>\n",
       "      <th>39664</th>\n",
       "      <td>40</td>\n",
       "      <td>admin.</td>\n",
       "      <td>single</td>\n",
       "      <td>basic.9y</td>\n",
       "      <td>no</td>\n",
       "      <td>yes</td>\n",
       "      <td>no</td>\n",
       "      <td>cellular</td>\n",
       "      <td>may</td>\n",
       "      <td>thu</td>\n",
       "      <td>...</td>\n",
       "      <td>1</td>\n",
       "      <td>3</td>\n",
       "      <td>3</td>\n",
       "      <td>success</td>\n",
       "      <td>-1.8</td>\n",
       "      <td>93.876</td>\n",
       "      <td>-40.0</td>\n",
       "      <td>0.683</td>\n",
       "      <td>5008.7</td>\n",
       "      <td>yes</td>\n",
       "    </tr>\n",
       "  </tbody>\n",
       "</table>\n",
       "<p>1 rows × 21 columns</p>\n",
       "</div>"
      ],
      "text/plain": [
       "       age     job marital education default housing loan   contact month  \\\n",
       "39664   40  admin.  single  basic.9y      no     yes   no  cellular   may   \n",
       "\n",
       "      day_of_week  ...  campaign  pdays  previous  poutcome emp.var.rate  \\\n",
       "39664         thu  ...         1      3         3   success         -1.8   \n",
       "\n",
       "       cons.price.idx  cons.conf.idx  euribor3m  nr.employed    y  \n",
       "39664          93.876          -40.0      0.683       5008.7  yes  \n",
       "\n",
       "[1 rows x 21 columns]"
      ]
     },
     "metadata": {},
     "output_type": "display_data"
    },
    {
     "name": "stdout",
     "output_type": "stream",
     "text": [
      "this person will subscribe\n"
     ]
    }
   ],
   "source": [
    "obs = df.sample(1, random_state = 456)\n",
    "display(obs)\n",
    "pred = pipe.predict_proba(obs)[0][1]\n",
    "if pred >= .36:\n",
    "    print('this person will subscribe')\n",
    "else:\n",
    "    print('this person won\\'t subscribe')"
   ]
  },
  {
   "cell_type": "markdown",
   "metadata": {},
   "source": [
    "***Judging from model report theres 57% chance that this person will actually subscribe. at at the and our model will be able to predict 71% from all future subscribers***"
   ]
  }
 ],
 "metadata": {
  "kernelspec": {
   "display_name": "Python 3 (ipykernel)",
   "language": "python",
   "name": "python3"
  },
  "language_info": {
   "codemirror_mode": {
    "name": "ipython",
    "version": 3
   },
   "file_extension": ".py",
   "mimetype": "text/x-python",
   "name": "python",
   "nbconvert_exporter": "python",
   "pygments_lexer": "ipython3",
   "version": "3.7.11"
  }
 },
 "nbformat": 4,
 "nbformat_minor": 4
}
